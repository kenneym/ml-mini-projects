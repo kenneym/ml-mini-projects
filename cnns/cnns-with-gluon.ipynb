{
 "cells": [
  {
   "cell_type": "markdown",
   "metadata": {},
   "source": [
    "# Building CNNs using MXNet Gluon\n",
    "The following code is my work relating to an assignment given from my Machine Learning course to build a set of Convolutional Neural nets (CNNs) using MXNet. The first Question asked us to build, and then tune the parameters of a CNN in order to classify images of clothing items from the [FashionMNIST](https://github.com/zalandoresearch/fashion-mnist). The second asked us to build a more sophisticated CNN, by applying transfer learning, to classify between images of Cats and Dogs."
   ]
  },
  {
   "cell_type": "code",
   "execution_count": 1,
   "metadata": {},
   "outputs": [],
   "source": [
    "import numpy as np\n",
    "import mxnet as mx\n",
    "from mxnet import gluon, nd, image\n",
    "from mxnet import autograd as autograd\n",
    "from mxnet.gluon import nn\n",
    "from mxnet.gluon.data.vision import transforms\n",
    "from gluoncv.utils import makedirs, TrainingHistory\n",
    "from gluoncv.data import transforms as gcv_transforms"
   ]
  },
  {
   "cell_type": "code",
   "execution_count": 2,
   "metadata": {},
   "outputs": [
    {
     "name": "stdout",
     "output_type": "stream",
     "text": [
      "f4d48c2a073e\n"
     ]
    }
   ],
   "source": [
    "!hostname\n",
    "mx.random.seed(1)\n",
    "ctx = mx.gpu() if mx.test_utils.list_gpus() else mx.cpu()"
   ]
  },
  {
   "cell_type": "markdown",
   "metadata": {},
   "source": [
    "## Q1 \n",
    "You are given the dataset gluon.data.vision.datasets.FashionMNIST, which consists of 28 × 28 grayscale images of 10 classes of cloth items. Load the training and test datasets from gluon.data.vision. Using modules and functions from mxnet and gluon, you have to do the following:\n",
    "\n",
    "1. Implement the convolutional neural network specified in figure 1. Write a function for training, with the syntax: `train(net, train data, val data, epochs, batch size, lr=0.9, lr decay=1, lr decay epoch=[-1], ctx=ctx)` Note that this CNN uses average pooling, which is analogous to max pooling except that average pooling takes the average (instead of taking the maximum).\n",
    "\n",
    "2. Aggregate evaluation data during training. This function outputs the following after each epoch: \n",
    " - training set\n",
    " - validation set accuracy, and\n",
    " - elapsed wall-clock time for this epoch (difference of two calls to time.time()).\n",
    " \n",
    "3. Train the network with default parameters: lr=0.9, epochs=20, batch size=256. Use the default optimizer: stochastic gradient descent; loss function: `gluon.loss.SoftmaxCrossEntropyLoss()`; and metric: `metric.Accuracy()`. You can infer the padding parameter from figure 1. No data augmentation is needed. After each epoch, call plot history(evals, epoch) to show the training progress (corresponding to the description in assignment 2.ipynb).\n",
    "\n",
    "4. Make changes to the network. After each epoch, call `plot_history(evals, epoch)` to show the training progress, and describe what you observe after making each change.\n",
    " - Take the original network in figure 1, change average pooling to max pooling;\n",
    " - Take the network obtained from (1) above, change the filter size and number of channels of first 2 convolutional layers (conv layer1, conv layer2) to ([11 × 11/1, 32], [7 × 7/1, 16]), which means increasing kernel and number of channels. Add one more convolution layer of parameters [5×5/1, 16] with padding = 2.\n",
    " - Take the network obtained from (2) above, change activations of all 3 convolutional layers to ReLU\n",
    " \n",
    "### Figure 1\n",
    " ![Figure 1](./figure_1.jpg)"
   ]
  },
  {
   "cell_type": "markdown",
   "metadata": {},
   "source": [
    "**Note**: Some structure and strategies employed in the code below were inspired by the following [gluon data loader tutorial](https://aws.amazon.com/blogs/machine-learning/maximize-training-performance-with-gluon-data-loader-workers/) on AWS."
   ]
  },
  {
   "cell_type": "code",
   "execution_count": 3,
   "metadata": {},
   "outputs": [],
   "source": [
    "import time\n",
    "from collections import defaultdict\n",
    "\n",
    "def train(net, train_data, val_data, epochs, batch_size, \n",
    "          lr=0.9, lr_decay=1, lr_decay_epoch=[-1], ctx=ctx):\n",
    "    \n",
    "    trainer = gluon.Trainer(net.collect_params(), 'sgd', {'learning_rate': lr})\n",
    "    softmax_cross_entropy = gluon.loss.SoftmaxCrossEntropyLoss()\n",
    "    train_metric = mx.metric.Accuracy()\n",
    "    train_history = TrainingHistory(['training-error', 'validation-error'])\n",
    "           \n",
    "    # Step 2\n",
    "    lr_decay_count = 0\n",
    "    evals = defaultdict(dict) # Dictionary of dictionaries\n",
    "    \n",
    "    # Epoch Loop\n",
    "    for epoch in range(epochs):\n",
    "        epoch_start_time = time.time()\n",
    "        train_metric.reset()\n",
    "\n",
    "        # Step 3: Learning rate decay\n",
    "        if epoch == lr_decay_epoch[lr_decay_count]:\n",
    "            trainer.set_learning_rate(trainer.learning_rate*lr_decay)\n",
    "            lr_decay_count += 1\n",
    "        \n",
    "        for batch_data, batch_labels in train_data:\n",
    "            \n",
    "            # Performs same operation as 'split_and_load'\n",
    "            batch_data = batch_data.as_in_context(ctx)\n",
    "            batch_labels = batch_labels.as_in_context(ctx)\n",
    "            \n",
    "            # Wait for completion of previous iteration to\n",
    "            # avoid unnecessary memory allocation (trick from AWS tutorial)\n",
    "            nd.waitall()\n",
    "            \n",
    "            output = None\n",
    "            with autograd.record():\n",
    "                output = net(batch_data)\n",
    "                loss = softmax_cross_entropy(output, batch_labels)\n",
    "            \n",
    "            # Optimize\n",
    "            loss.backward()\n",
    "            trainer.step(batch_size)\n",
    "\n",
    "            # Update train metrics\n",
    "            train_metric.update(batch_labels, output)\n",
    "           \n",
    "        nd.waitall()\n",
    "    \n",
    "        # get time to train on 1 epoch\n",
    "        evals['time'][epoch] = time.time() - epoch_start_time\n",
    "    \n",
    "        # Get accuracy measures for this epoch:\n",
    "        _, train_acc = train_metric.get()\n",
    "        _, val_acc = test(net, val_data, ctx)    # Evaluate on Validation data\n",
    "    \n",
    "        # Update Dictionary\n",
    "        evals['train_acc'][epoch] = train_acc\n",
    "        evals['val_acc'][epoch] = val_acc\n",
    "    \n",
    "        # Step 7: Plot Network Metrics:\n",
    "        plot_history(evals, epoch)\n",
    "    \n",
    "        # Update history and print metrics:\n",
    "        train_history.update([1-train_acc, 1-val_acc])\n",
    "    \n",
    "    train_history.plot()\n",
    "    return net, evals"
   ]
  },
  {
   "cell_type": "code",
   "execution_count": 4,
   "metadata": {},
   "outputs": [],
   "source": [
    "def plot_history(evals, epoch):\n",
    "    \"\"\"\n",
    "    Printing of evaluations in 'evals'\n",
    "\n",
    "    Parameters:\n",
    "        - evals - dictionary  of evaluations (key = 'eval_name', value = 'list_values'): \n",
    "            training \\& validation accuracies\n",
    "        - epoch - current epoch index\n",
    "    \"\"\"\n",
    "    print('[Epoch %d] train=%f val=%f time: %f' %\n",
    "            (epoch, evals['train_acc'][epoch], evals['val_acc'][epoch], evals['time'][epoch]))"
   ]
  },
  {
   "cell_type": "code",
   "execution_count": 5,
   "metadata": {},
   "outputs": [],
   "source": [
    "def test(net, val_data, ctx):\n",
    "    \"\"\"\n",
    "    Function to test network on validation OR test dataset\n",
    "\n",
    "    Parameters:\n",
    "        - net - gluon.nn.basic_layers.Sequential OR gluoncv.model_zoo.NETWORK_NAME, \n",
    "            initialized and constructed network (outside function)\n",
    "        - val_data - gluon.data.dataloader.DataLoader, validation OR test dataset\n",
    "        - ctx - context for making batching using gluon.utils.split_and_load(...)\n",
    "        - **** Edit: loss_fn is irrelevant for determining validation accuracy\n",
    "\n",
    "    Return:\n",
    "        - net - gluon.nn.basic_layers.Sequential OR gluoncv.model_zoo.NETWORK_NAME, \n",
    "            initialized and constructed network (outside function)\n",
    "        - val_acc - validation accuracy\n",
    "    \"\"\"\n",
    "    accuracy = mx.metric.Accuracy()\n",
    "    for i, (data, label) in enumerate(val_data):\n",
    "        predictions = nd.argmax(net(data.as_in_context(ctx)), axis=1)\n",
    "        accuracy.update(preds=predictions, labels=label.as_in_context(ctx))\n",
    "    \n",
    "    val_acc = accuracy.get()[1]\n",
    "    return net, val_acc"
   ]
  },
  {
   "cell_type": "markdown",
   "metadata": {},
   "source": [
    "## Load Data from FashionMNIST\n",
    "Below, I use dataloaders and very basic transformation functions to load in the input data."
   ]
  },
  {
   "cell_type": "code",
   "execution_count": 6,
   "metadata": {},
   "outputs": [],
   "source": [
    "def transform(data, label):\n",
    "    \"\"\"\n",
    "    Transforms input data from shape (width, height, nc) to (nc, width, height), and normalizes\n",
    "    to [0,1] color range. Float32 chosen for speed (single precision is faster on GPU than double-\n",
    "    precision, without significant loss of accuracy).\n",
    "    \"\"\"\n",
    "    return nd.transpose(data.astype(np.float32), (2,0,1))/255, label.astype(np.float32)\n",
    "\n",
    "def data_loader(train, batch_size, num_workers):\n",
    "    \"\"\"\n",
    "    Function to load the FashionMNIST dataset into a dataloader, applying a transformation\n",
    "    to scale color channels in the range [0,255] to range [0,1], and rearrange dimensions of the\n",
    "    input images\n",
    "    \"\"\"\n",
    "    dataset = gluon.data.vision.datasets.FashionMNIST(train=train, transform=transform)\n",
    "    return gluon.data.DataLoader(dataset, batch_size, shuffle=train, num_workers=num_workers)"
   ]
  },
  {
   "cell_type": "code",
   "execution_count": 7,
   "metadata": {},
   "outputs": [
    {
     "name": "stdout",
     "output_type": "stream",
     "text": [
      "Downloading /root/.mxnet/datasets/fashion-mnist/train-images-idx3-ubyte.gz from https://apache-mxnet.s3-accelerate.dualstack.amazonaws.com/gluon/dataset/fashion-mnist/train-images-idx3-ubyte.gz...\n",
      "Downloading /root/.mxnet/datasets/fashion-mnist/train-labels-idx1-ubyte.gz from https://apache-mxnet.s3-accelerate.dualstack.amazonaws.com/gluon/dataset/fashion-mnist/train-labels-idx1-ubyte.gz...\n",
      "Downloading /root/.mxnet/datasets/fashion-mnist/t10k-images-idx3-ubyte.gz from https://apache-mxnet.s3-accelerate.dualstack.amazonaws.com/gluon/dataset/fashion-mnist/t10k-images-idx3-ubyte.gz...\n",
      "Downloading /root/.mxnet/datasets/fashion-mnist/t10k-labels-idx1-ubyte.gz from https://apache-mxnet.s3-accelerate.dualstack.amazonaws.com/gluon/dataset/fashion-mnist/t10k-labels-idx1-ubyte.gz...\n"
     ]
    }
   ],
   "source": [
    "batch_size = 255\n",
    "num_workers = 8\n",
    "fashion_train_data = data_loader(train=True, batch_size=batch_size, num_workers=num_workers)\n",
    "fashion_test_data = data_loader(train=False, batch_size=batch_size, num_workers=num_workers)"
   ]
  },
  {
   "cell_type": "markdown",
   "metadata": {},
   "source": [
    "## Build CNN:\n"
   ]
  },
  {
   "cell_type": "code",
   "execution_count": 8,
   "metadata": {},
   "outputs": [],
   "source": [
    "# Variables to be used for any variation of our model\n",
    "num_outputs = 10 # 10 Different classes of clothing\n",
    "epochs = 20"
   ]
  },
  {
   "cell_type": "markdown",
   "metadata": {},
   "source": [
    "#### Define Padding:\n",
    "The following function takes image size, filter size, and stride as input and outputs the padding value neccessary to preserve input image size (same convolution padding). In the case that stride is 1, the user may input only filter and stride values, since image size does not factor in this case."
   ]
  },
  {
   "cell_type": "code",
   "execution_count": 9,
   "metadata": {},
   "outputs": [],
   "source": [
    "def same_conv_padding(f, s, x=0):\n",
    "    \"\"\"\n",
    "    parameters: \n",
    "        - x: size of one side of the input image (does not factor into calculation\n",
    "             unless stride > 1)\n",
    "        - f: filter (kernel) size\n",
    "        - s: stride length\n",
    "        \n",
    "    returns:\n",
    "        - padding value 'p' neccesary to perform a \"same\" convolution - input width and height\n",
    "          preserved\n",
    "    \"\"\"\n",
    "    return (int) ((s * (x - 1) - x + f) / 2)"
   ]
  },
  {
   "cell_type": "markdown",
   "metadata": {},
   "source": [
    "#### Define Sequential Model\n",
    "**Note**: The following neural nets are implemented using the HybridSequential Class from MXNet. Hybrid nets in MXNet allow for faster computation by implementing a symbolic approach \"under the hood\" -> see https://gluon.mxnet.io/chapter07_distributed-learning/hybridize.html for details."
   ]
  },
  {
   "cell_type": "code",
   "execution_count": 10,
   "metadata": {},
   "outputs": [],
   "source": [
    "# Build Sequential Model:\n",
    "\n",
    "f = 5 # filter size\n",
    "s= 1 # stride length\n",
    "p = same_conv_padding(f, s) #only one padding value since images are square (Length == Width)\n",
    "\n",
    "fashion_net = gluon.nn.HybridSequential()\n",
    "\n",
    "with fashion_net.name_scope():\n",
    "    # First convolutional layer is a \"same\" convolution, rest are \"valid\" convolutions\n",
    "    fashion_net.add(nn.Conv2D(channels=6, kernel_size=f, strides=(s,s), padding=(p,p), activation='sigmoid'))\n",
    "    fashion_net.add(nn.AvgPool2D(pool_size=2, strides=2))            \n",
    "    fashion_net.add(nn.Conv2D(channels=16, kernel_size=f, strides=(s,s), padding=(0,0), activation='sigmoid'))\n",
    "    fashion_net.add(nn.AvgPool2D(pool_size=2, strides=2))\n",
    "    fashion_net.add(nn.Flatten())\n",
    "    fashion_net.add(nn.Dense(120, activation=\"sigmoid\"))\n",
    "    fashion_net.add(nn.Dense(84, activation=\"sigmoid\"))\n",
    "    fashion_net.add(nn.Dense(num_outputs))"
   ]
  },
  {
   "cell_type": "markdown",
   "metadata": {},
   "source": [
    "#### Initialize Model with Random Weights\n",
    "Here, we use the Xavier initializer with suggested magnitude 2.24, and we hybridize the network. Hybridization allows the network to perform multiple operations in parallel, processing a larger ammount of data at once. Essentially, hybridization allocates space for each node in the physical GPU hardware before the net has even begun to train, so that feed-forward and feed-back operations can be performed on many nodes at once."
   ]
  },
  {
   "cell_type": "code",
   "execution_count": 11,
   "metadata": {},
   "outputs": [],
   "source": [
    "def initialize(net):\n",
    "    # Hybridizing the net allows it to operate using sybolic programming\n",
    "    net.hybridize()\n",
    "    # Initialize the CNN using Xavier with weight range set to 2.24\n",
    "    net.collect_params().initialize(mx.init.Xavier(magnitude=2.24), ctx=ctx, force_reinit=True)"
   ]
  },
  {
   "cell_type": "code",
   "execution_count": 12,
   "metadata": {},
   "outputs": [],
   "source": [
    "initialize(fashion_net)"
   ]
  },
  {
   "cell_type": "code",
   "execution_count": 13,
   "metadata": {},
   "outputs": [
    {
     "name": "stdout",
     "output_type": "stream",
     "text": [
      "[Epoch 0] train=0.100533 val=0.100000 time: 2.518824\n",
      "[Epoch 1] train=0.214067 val=0.545300 time: 2.530839\n",
      "[Epoch 2] train=0.589433 val=0.681600 time: 2.496348\n",
      "[Epoch 3] train=0.690833 val=0.718700 time: 2.475308\n",
      "[Epoch 4] train=0.729933 val=0.755100 time: 2.492683\n",
      "[Epoch 5] train=0.753850 val=0.769600 time: 2.493110\n",
      "[Epoch 6] train=0.771667 val=0.795100 time: 2.495984\n",
      "[Epoch 7] train=0.791083 val=0.807600 time: 2.510157\n",
      "[Epoch 8] train=0.802717 val=0.821400 time: 2.460706\n",
      "[Epoch 9] train=0.816783 val=0.830100 time: 2.523693\n",
      "[Epoch 10] train=0.824850 val=0.839900 time: 2.487296\n",
      "[Epoch 11] train=0.832900 val=0.835300 time: 2.462367\n",
      "[Epoch 12] train=0.834800 val=0.836100 time: 2.530314\n",
      "[Epoch 13] train=0.839367 val=0.851100 time: 2.532936\n",
      "[Epoch 14] train=0.847267 val=0.852100 time: 2.523868\n",
      "[Epoch 15] train=0.851500 val=0.855400 time: 2.468425\n",
      "[Epoch 16] train=0.853650 val=0.859900 time: 2.466644\n",
      "[Epoch 17] train=0.857217 val=0.861800 time: 2.542881\n",
      "[Epoch 18] train=0.861550 val=0.862400 time: 2.482188\n",
      "[Epoch 19] train=0.863917 val=0.861200 time: 2.482760\n"
     ]
    },
    {
     "data": {
      "image/png": "[encoded data removed]",
      "text/plain": [
       "<Figure size 432x288 with 1 Axes>"
      ]
     },
     "metadata": {
      "needs_background": "light"
     },
     "output_type": "display_data"
    }
   ],
   "source": [
    "# Train and plot history:\n",
    "fashion_net, _ = train(fashion_net, fashion_train_data, fashion_test_data, epochs, batch_size)"
   ]
  },
  {
   "cell_type": "code",
   "execution_count": 14,
   "metadata": {},
   "outputs": [],
   "source": [
    "# Save Parameters:\n",
    "fashion_net.save_parameters('fashion_net.params')"
   ]
  },
  {
   "cell_type": "markdown",
   "metadata": {},
   "source": [
    "## Apply Updates and Retrain on the Fashion MNIST\n",
    "We will now apply the following changes to the network and retrain after each update:\n",
    "1.  Change average pooling to max pooling;\n",
    "2. Change the filter size and number of channels of first 2 convolutional layers (conv layer1, conv layer2) to ([11 × 11/1, 32], [7 × 7/1, 16]), which means increasing kernel and number of channels. Add one more convolution layer of parameters [5×5/1, 16] with padding = 2.\n",
    "3. Take the network obtained from (2) above, change activations of all 3 convolutional layers to ReLU.\n",
    "\n",
    "### 1. Change average pooling to max pooling"
   ]
  },
  {
   "cell_type": "code",
   "execution_count": 15,
   "metadata": {},
   "outputs": [],
   "source": [
    "f = 5 # filter size\n",
    "s= 1 # stride length\n",
    "p = same_conv_padding(f, s) #only one padding value since images are square (Length == Width)\n",
    "\n",
    "fashion_net_improved = gluon.nn.HybridSequential()\n",
    "\n",
    "with fashion_net_improved.name_scope():\n",
    "    # First convolutional layer is a \"same\" convolution, rest are \"valid\" convolutions\n",
    "    fashion_net_improved.add(nn.Conv2D(channels=6, kernel_size=f, strides=(s,s), padding=(p,p), activation='sigmoid'))\n",
    "    fashion_net_improved.add(nn.MaxPool2D(pool_size=2, strides=2))            \n",
    "    fashion_net_improved.add(nn.Conv2D(channels=16, kernel_size=f, strides=(s,s), padding=(0,0), activation='sigmoid'))\n",
    "    fashion_net_improved.add(nn.MaxPool2D(pool_size=2, strides=2))\n",
    "    fashion_net_improved.add(nn.Flatten())\n",
    "    fashion_net_improved.add(nn.Dense(120, activation=\"sigmoid\"))\n",
    "    fashion_net_improved.add(nn.Dense(84, activation=\"sigmoid\"))\n",
    "    fashion_net_improved.add(nn.Dense(num_outputs))"
   ]
  },
  {
   "cell_type": "code",
   "execution_count": 16,
   "metadata": {},
   "outputs": [
    {
     "name": "stdout",
     "output_type": "stream",
     "text": [
      "[Epoch 0] train=0.098783 val=0.100000 time: 2.507926\n",
      "[Epoch 1] train=0.098533 val=0.100000 time: 2.503326\n",
      "[Epoch 2] train=0.103767 val=0.100000 time: 2.500296\n",
      "[Epoch 3] train=0.397317 val=0.616900 time: 2.465210\n",
      "[Epoch 4] train=0.672750 val=0.717900 time: 2.476434\n",
      "[Epoch 5] train=0.727067 val=0.751200 time: 2.497985\n",
      "[Epoch 6] train=0.760083 val=0.782800 time: 2.517047\n",
      "[Epoch 7] train=0.784883 val=0.806200 time: 2.456245\n",
      "[Epoch 8] train=0.807133 val=0.824100 time: 2.479239\n",
      "[Epoch 9] train=0.825533 val=0.839100 time: 2.508077\n",
      "[Epoch 10] train=0.836167 val=0.841700 time: 2.462103\n",
      "[Epoch 11] train=0.844917 val=0.852600 time: 2.483768\n",
      "[Epoch 12] train=0.851517 val=0.859000 time: 2.486008\n",
      "[Epoch 13] train=0.857250 val=0.865600 time: 2.458053\n",
      "[Epoch 14] train=0.861917 val=0.867000 time: 2.458067\n",
      "[Epoch 15] train=0.866833 val=0.871200 time: 2.477521\n",
      "[Epoch 16] train=0.869750 val=0.871000 time: 2.484024\n",
      "[Epoch 17] train=0.872267 val=0.871700 time: 2.458562\n",
      "[Epoch 18] train=0.876467 val=0.881200 time: 2.495762\n",
      "[Epoch 19] train=0.879533 val=0.881000 time: 2.456046\n"
     ]
    },
    {
     "data": {
      "image/png": "[encoded data removed]",
      "text/plain": [
       "<Figure size 432x288 with 1 Axes>"
      ]
     },
     "metadata": {
      "needs_background": "light"
     },
     "output_type": "display_data"
    }
   ],
   "source": [
    "# Evaluate the newly improved net\n",
    "initialize(fashion_net_improved)\n",
    "fashion_net_improved, _ = train(fashion_net_improved, fashion_train_data, fashion_test_data, epochs, batch_size)"
   ]
  },
  {
   "cell_type": "markdown",
   "metadata": {},
   "source": [
    "### 2. Change the filter size and number of channels of first 2 convolutional layers\n",
    "Change the filter size and number of channels of first 2 convolutional layers (conv layer1, conv layer2) to ([11 × 11/1, 32], [7 × 7/1, 16]), which means increasing kernel and number of channels. Add one more convolution layer of parameters [5×5/1, 16] with padding = 2."
   ]
  },
  {
   "cell_type": "code",
   "execution_count": 17,
   "metadata": {},
   "outputs": [],
   "source": [
    "num_outputs = 10 # 10 Different classes of clothing\n",
    "\n",
    "# New filter sizes for each convolutional layer:\n",
    "f1 = 11\n",
    "f2 = 7\n",
    "f3 = 5\n",
    "\n",
    "s= 1 # stride length\n",
    "\n",
    "# Same convolution padding used for the first convolutional layer\n",
    "p = same_conv_padding(f1, s) # only one padding value since images are square (Length == Width)\n",
    "\n",
    "fashion_net_improved = gluon.nn.HybridSequential()\n",
    "\n",
    "with fashion_net_improved.name_scope():\n",
    "    \n",
    "    # First convolutional layer is a \"same\" convolution, rest are \"valid\" convolutions\n",
    "    fashion_net_improved.add(nn.Conv2D(channels=32, kernel_size=f1, strides=(s,s), padding=(p,p), activation='sigmoid'))\n",
    "    fashion_net_improved.add(nn.MaxPool2D(pool_size=2, strides=2))            \n",
    "    fashion_net_improved.add(nn.Conv2D(channels=16, kernel_size=f2, strides=(s,s), padding=(0,0), activation='sigmoid'))\n",
    "    fashion_net_improved.add(nn.MaxPool2D(pool_size=2, strides=2))\n",
    "    fashion_net_improved.add(nn.Conv2D(channels=16, kernel_size=f3, strides=(s,s), padding=(2,2), activation='sigmoid'))\n",
    "    fashion_net_improved.add(nn.MaxPool2D(pool_size=2, strides=2))    \n",
    "    fashion_net_improved.add(nn.Flatten())\n",
    "    fashion_net_improved.add(nn.Dense(120, activation=\"sigmoid\"))\n",
    "    fashion_net_improved.add(nn.Dense(84, activation=\"sigmoid\"))\n",
    "    fashion_net_improved.add(nn.Dense(num_outputs))"
   ]
  },
  {
   "cell_type": "code",
   "execution_count": 18,
   "metadata": {},
   "outputs": [
    {
     "name": "stdout",
     "output_type": "stream",
     "text": [
      "[Epoch 0] train=0.099767 val=0.100000 time: 2.634006\n",
      "[Epoch 1] train=0.101817 val=0.100000 time: 2.457772\n",
      "[Epoch 2] train=0.100100 val=0.100000 time: 2.473773\n",
      "[Epoch 3] train=0.099600 val=0.100000 time: 2.511427\n",
      "[Epoch 4] train=0.101800 val=0.100000 time: 2.503194\n",
      "[Epoch 5] train=0.098917 val=0.100000 time: 2.503458\n",
      "[Epoch 6] train=0.099317 val=0.100000 time: 2.506196\n",
      "[Epoch 7] train=0.100200 val=0.100000 time: 2.570551\n",
      "[Epoch 8] train=0.098600 val=0.100000 time: 2.459863\n",
      "[Epoch 9] train=0.100167 val=0.100000 time: 2.535505\n",
      "[Epoch 10] train=0.102950 val=0.100000 time: 2.490240\n",
      "[Epoch 11] train=0.128283 val=0.193800 time: 2.476687\n",
      "[Epoch 12] train=0.241983 val=0.295000 time: 2.539909\n",
      "[Epoch 13] train=0.417567 val=0.521900 time: 2.473238\n",
      "[Epoch 14] train=0.593350 val=0.694800 time: 2.502349\n",
      "[Epoch 15] train=0.680900 val=0.694900 time: 2.490539\n",
      "[Epoch 16] train=0.715367 val=0.732000 time: 2.514866\n",
      "[Epoch 17] train=0.732400 val=0.742800 time: 2.498212\n",
      "[Epoch 18] train=0.751817 val=0.762400 time: 2.483294\n",
      "[Epoch 19] train=0.770917 val=0.788700 time: 2.478829\n"
     ]
    },
    {
     "data": {
      "image/png": "[encoded data removed]",
      "text/plain": [
       "<Figure size 432x288 with 1 Axes>"
      ]
     },
     "metadata": {
      "needs_background": "light"
     },
     "output_type": "display_data"
    }
   ],
   "source": [
    "batch_size = 255\n",
    "initialize(fashion_net_improved)\n",
    "fashion_net_improved, _ = train(fashion_net_improved, fashion_train_data, fashion_test_data, epochs, batch_size)"
   ]
  },
  {
   "cell_type": "markdown",
   "metadata": {},
   "source": [
    "3. Take the network obtained from (2) above, change activations of all 3 convolutional layers to ReLU."
   ]
  },
  {
   "cell_type": "code",
   "execution_count": 19,
   "metadata": {},
   "outputs": [],
   "source": [
    "num_outputs = 10 # 10 Different classes of clothing\n",
    "\n",
    "f1 = 11 # filter size\n",
    "f2 = 7\n",
    "f3 = 5\n",
    "s= 1 # stride length\n",
    "p = same_conv_padding(f1, s) #only one padding value since images are square (Length == Width)\n",
    "\n",
    "fashion_net_improved = gluon.nn.HybridSequential()\n",
    "\n",
    "with fashion_net_improved.name_scope():\n",
    "    \n",
    "    # First convolutional layer is a \"same\" convolution, rest are \"valid\" convolutions\n",
    "    fashion_net_improved.add(nn.Conv2D(channels=32, kernel_size=f1, strides=(s,s), padding=(p,p), activation='relu'))\n",
    "    fashion_net_improved.add(nn.MaxPool2D(pool_size=2, strides=2))            \n",
    "    fashion_net_improved.add(nn.Conv2D(channels=16, kernel_size=f2, strides=(s,s), padding=(0,0), activation='relu'))\n",
    "    fashion_net_improved.add(nn.MaxPool2D(pool_size=2, strides=2))\n",
    "    fashion_net_improved.add(nn.Conv2D(channels=16, kernel_size=f3, strides=(s,s), padding=(2,2), activation='relu'))\n",
    "    fashion_net_improved.add(nn.MaxPool2D(pool_size=2, strides=2))    \n",
    "    fashion_net_improved.add(nn.Flatten())\n",
    "    fashion_net_improved.add(nn.Dense(120, activation=\"sigmoid\"))\n",
    "    fashion_net_improved.add(nn.Dense(84, activation=\"sigmoid\"))\n",
    "    fashion_net_improved.add(nn.Dense(num_outputs))"
   ]
  },
  {
   "cell_type": "code",
   "execution_count": 20,
   "metadata": {},
   "outputs": [
    {
     "name": "stdout",
     "output_type": "stream",
     "text": [
      "[Epoch 0] train=0.434433 val=0.721100 time: 2.472293\n",
      "[Epoch 1] train=0.752283 val=0.819600 time: 2.495614\n",
      "[Epoch 2] train=0.821250 val=0.850500 time: 2.464797\n",
      "[Epoch 3] train=0.847417 val=0.863900 time: 2.526258\n",
      "[Epoch 4] train=0.862850 val=0.871000 time: 2.507557\n",
      "[Epoch 5] train=0.874117 val=0.878300 time: 2.474132\n",
      "[Epoch 6] train=0.880633 val=0.884500 time: 2.497164\n",
      "[Epoch 7] train=0.885117 val=0.883400 time: 2.475035\n",
      "[Epoch 8] train=0.893350 val=0.887100 time: 2.469704\n",
      "[Epoch 9] train=0.896733 val=0.883700 time: 2.498565\n",
      "[Epoch 10] train=0.898717 val=0.889200 time: 2.563375\n",
      "[Epoch 11] train=0.901133 val=0.893300 time: 2.509242\n",
      "[Epoch 12] train=0.905400 val=0.894000 time: 2.486483\n",
      "[Epoch 13] train=0.909300 val=0.895300 time: 2.514732\n",
      "[Epoch 14] train=0.910200 val=0.897300 time: 2.490899\n",
      "[Epoch 15] train=0.912833 val=0.898700 time: 2.478054\n",
      "[Epoch 16] train=0.913717 val=0.896400 time: 2.466483\n",
      "[Epoch 17] train=0.917550 val=0.900900 time: 2.487839\n",
      "[Epoch 18] train=0.919783 val=0.897600 time: 2.510262\n",
      "[Epoch 19] train=0.920967 val=0.900400 time: 2.487007\n"
     ]
    },
    {
     "data": {
      "image/png": "[encoded data removed]",
      "text/plain": [
       "<Figure size 432x288 with 1 Axes>"
      ]
     },
     "metadata": {
      "needs_background": "light"
     },
     "output_type": "display_data"
    }
   ],
   "source": [
    "initialize(fashion_net_improved)\n",
    "fashion_net_improved, evals2 = train(fashion_net_improved, fashion_train_data, fashion_test_data, epochs, batch_size)"
   ]
  },
  {
   "cell_type": "code",
   "execution_count": 21,
   "metadata": {},
   "outputs": [],
   "source": [
    "fashion_net_improved.save_parameters('fashion_net_improved.params')"
   ]
  },
  {
   "cell_type": "markdown",
   "metadata": {},
   "source": [
    "## Question 2: Cats vs Dogs Classifier\n",
    "In this question you train a neural network of your choice to solve the binary classification problem of “Cats vs Dogs” dataset. The training and validation datasets can be obtained from this link. The TA will test your network on a test dataset not available to you.\n",
    "1. Start with the architecture introduced in figure 1 of Q1. Change the number of classes in the output Fully Connected Layer to 2.\n",
    "2. Use data augmentation mentioned in tutorial 6 with fine-tuning of MNIC-2500 dataset. Specifically, For the training dataset\n",
    " - Randomly resize and crop to 224 × 224;\n",
    " - Randomly flip horizontally (left-right);\n",
    " - Randomly jitter color with all parameters equal to 0.4;\n",
    " - Randomly change lightning with parameter equal to 0.1;\n",
    " - Change to tensor;\n",
    " - Data normalization: Remove the mean [0.485, 0.456, 0.406], and divide by the standard deviation [0.229, 0.224, 0.225];\n",
    "3. For the validation dataset:\n",
    " - Resize to 256;\n",
    " - Crop center part of the resized image with crop size 224 × 224;\n",
    " - Change to tensor;\n",
    " - Normalize as for training dataset;\n",
    "3. Train on the default parameters for epochs=20, batch size=128. Show the training progress by calling the function plot history(evals, epoch) after each epoch.\n",
    "4. Download the pretrained AlexNet model, and fine-tune it for 10 epochs. Show the training progress by calling the function plot history(evals, epoch) after each epoch. Experiment with changing the learning rate lr and learning decay factor lr decay to smaller values. Describe what you observe."
   ]
  },
  {
   "cell_type": "code",
   "execution_count": 41,
   "metadata": {},
   "outputs": [],
   "source": [
    "num_outputs = 2 # Cats vs. Dogs\n",
    "\n",
    "cat_dog_net = gluon.nn.HybridSequential()\n",
    "\n",
    "with cat_dog_net.name_scope():\n",
    "    \n",
    "    # First convolutional layer is a \"same\" convolution, rest are \"valid\" convolutions\n",
    "    cat_dog_net.add(nn.Conv2D(channels=32, kernel_size=f1, strides=(s,s), padding=(p,p), activation='relu'))\n",
    "    cat_dog_net.add(nn.MaxPool2D(pool_size=2, strides=2))            \n",
    "    cat_dog_net.add(nn.Conv2D(channels=16, kernel_size=f2, strides=(s,s), padding=(0,0), activation='relu'))\n",
    "    cat_dog_net.add(nn.MaxPool2D(pool_size=2, strides=2))\n",
    "    cat_dog_net.add(nn.Conv2D(channels=16, kernel_size=f3, strides=(s,s), padding=(2,2), activation='relu'))\n",
    "    cat_dog_net.add(nn.MaxPool2D(pool_size=2, strides=2))    \n",
    "    cat_dog_net.add(nn.Flatten())\n",
    "    cat_dog_net.add(nn.Dense(120, activation=\"sigmoid\"))\n",
    "    cat_dog_net.add(nn.Dense(84, activation=\"sigmoid\"))\n",
    "    cat_dog_net.add(nn.Dense(num_outputs))"
   ]
  },
  {
   "cell_type": "markdown",
   "metadata": {},
   "source": [
    "### Data Augmentation:\n",
    "Here, we have a function to transform and augment our cat and dog images"
   ]
  },
  {
   "cell_type": "code",
   "execution_count": 39,
   "metadata": {},
   "outputs": [],
   "source": [
    "jitter_param = 0.4\n",
    "lighting_param = 0.1\n",
    "    \n",
    "transform_train = transforms.Compose([\n",
    "    \n",
    "    # Randomly resize and crop to 224 × 224;\n",
    "    transforms.Resize(224),\n",
    "    gcv_transforms.RandomCrop(224, pad=4),\n",
    "    \n",
    "    # Randomly flip horizontally (left-right);\n",
    "    transforms.RandomFlipLeftRight(),\n",
    "    \n",
    "    # Randomly jitter color with all parameters equal to 0.4;\n",
    "    transforms.RandomColorJitter(brightness=jitter_param, contrast=jitter_param, saturation=jitter_param),\n",
    "    \n",
    "    # Randomly change lightning with parameter equal to 0.1;\n",
    "    transforms.RandomLighting(lighting_param),\n",
    "    \n",
    "    # Change to tensor;\n",
    "    transforms.ToTensor(),\n",
    "    \n",
    "    # Data normalization: Remove the mean [0.485, 0.456, 0.406], and divide by the \n",
    "    # standard deviation [0.229, 0.224, 0.225];\n",
    "    transforms.Normalize([0.485, 0.456, 0.406], [0.229, 0.224, 0.225])\n",
    "])\n",
    "\n",
    "\n",
    "transform_test = transforms.Compose([\n",
    "    transforms.Resize(224),\n",
    "    transforms.CenterCrop(224),\n",
    "    transforms.ToTensor(),\n",
    "    transforms.Normalize([0.485, 0.456, 0.406], [0.229, 0.224, 0.225])\n",
    "])"
   ]
  },
  {
   "cell_type": "markdown",
   "metadata": {},
   "source": [
    "### Load Data:\n",
    "Use the ImageFolderDataset tool to pack cat and dog images into DataLoaders"
   ]
  },
  {
   "cell_type": "code",
   "execution_count": 40,
   "metadata": {},
   "outputs": [
    {
     "name": "stderr",
     "output_type": "stream",
     "text": [
      "/root/miniconda3/lib/python3.8/site-packages/mxnet/gluon/data/vision/datasets.py:317: UserWarning: Ignoring ./train_data_cats_vs_dogs/train/cat/.ipynb_checkpoints of type . Only support .jpg, .jpeg, .png\n",
      "  warnings.warn('Ignoring %s of type %s. Only support %s'%(\n",
      "/root/miniconda3/lib/python3.8/site-packages/mxnet/gluon/data/vision/datasets.py:317: UserWarning: Ignoring ./train_data_cats_vs_dogs/train/dog/.ipynb_checkpoints of type . Only support .jpg, .jpeg, .png\n",
      "  warnings.warn('Ignoring %s of type %s. Only support %s'%(\n"
     ]
    }
   ],
   "source": [
    "# If not already done, download the train_data_cats_vs_dogs dataset from Google Drive and\n",
    "# unzip it in the current directory.\n",
    "train_path = './train_data_cats_vs_dogs/train'\n",
    "val_path = './train_data_cats_vs_dogs/valid'\n",
    "\n",
    "# train_dataset = gluon.data.vision.datasets.ImageFolderDataset(train_path).transform_first(transform_train)\n",
    "# val_dataset = gluon.data.vision.datasets.ImageFolderDataset(val_path).transform_first(transform_test)\n",
    "\n",
    "train_dataset = gluon.data.vision.datasets.ImageFolderDataset(train_path).transform_first(transform_train)\n",
    "val_dataset = gluon.data.vision.datasets.ImageFolderDataset(val_path).transform_first(transform_test)\n",
    "\n",
    "# train_dataset = gluon.data.vision.datasets.FashionMNIST(train=True, transform=transform)\n",
    "# val_dataset = gluon.data.vision.datasets.FashionMNIST(train=False, transform=transform)\n",
    "\n",
    "animals_train_data = gluon.data.DataLoader(\n",
    "    train_dataset, batch_size=batch_size, shuffle=True, num_workers = 8)\n",
    "\n",
    "animals_val_data = gluon.data.DataLoader(\n",
    "    val_dataset, batch_size=batch_size, shuffle=False, num_workers = 8)"
   ]
  },
  {
   "cell_type": "markdown",
   "metadata": {},
   "source": [
    "### Initialize and Train"
   ]
  },
  {
   "cell_type": "code",
   "execution_count": 42,
   "metadata": {},
   "outputs": [],
   "source": [
    "initialize(cat_dog_net)"
   ]
  },
  {
   "cell_type": "code",
   "execution_count": 43,
   "metadata": {},
   "outputs": [
    {
     "name": "stdout",
     "output_type": "stream",
     "text": [
      "[Epoch 0] train=0.500569 val=0.500000 time: 14.381651\n",
      "[Epoch 1] train=0.499004 val=0.500000 time: 14.304660\n",
      "[Epoch 2] train=0.504622 val=0.500000 time: 14.331387\n",
      "[Epoch 3] train=0.496160 val=0.500000 time: 14.369072\n",
      "[Epoch 4] train=0.498293 val=0.500000 time: 14.364348\n",
      "[Epoch 5] train=0.504694 val=0.500000 time: 14.364140\n",
      "[Epoch 6] train=0.500071 val=0.500000 time: 14.407812\n",
      "[Epoch 7] train=0.491751 val=0.500000 time: 14.394231\n",
      "[Epoch 8] train=0.496729 val=0.500000 time: 14.378292\n",
      "[Epoch 9] train=0.501067 val=0.500000 time: 14.431729\n"
     ]
    },
    {
     "data": {
      "image/png": "[encoded data removed]",
      "text/plain": [
       "<Figure size 432x288 with 1 Axes>"
      ]
     },
     "metadata": {
      "needs_background": "light"
     },
     "output_type": "display_data"
    }
   ],
   "source": [
    "cat_dog_net, evals2 = train(cat_dog_net, animals_train_data, animals_val_data, epochs, batch_size)"
   ]
  },
  {
   "cell_type": "markdown",
   "metadata": {},
   "source": [
    "### 5. Download the pretrained AlexNet model, and fine-tune it for 10 epochs."
   ]
  },
  {
   "cell_type": "code",
   "execution_count": 29,
   "metadata": {},
   "outputs": [],
   "source": [
    "from gluoncv.model_zoo import get_model"
   ]
  },
  {
   "cell_type": "code",
   "execution_count": 30,
   "metadata": {},
   "outputs": [
    {
     "name": "stdout",
     "output_type": "stream",
     "text": [
      "Downloading /root/.mxnet/models/alexnet-44335d1f.zip from https://apache-mxnet.s3-accelerate.dualstack.amazonaws.com/gluon/models/alexnet-44335d1f.zip...\n"
     ]
    },
    {
     "name": "stderr",
     "output_type": "stream",
     "text": [
      "221999KB [00:06, 32443.57KB/s]                            \n"
     ]
    }
   ],
   "source": [
    "pre_alexnet = get_model('alexnet', pretrained=True)\n",
    "with pre_alexnet.name_scope():\n",
    "    pre_alexnet.output = nn.Dense(num_outputs)\n",
    "    \n",
    "pre_alexnet.output.initialize(mx.init.Xavier(magnitude=2.24), ctx = ctx)\n",
    "pre_alexnet.collect_params().reset_ctx(ctx)"
   ]
  },
  {
   "cell_type": "code",
   "execution_count": 31,
   "metadata": {},
   "outputs": [],
   "source": [
    "pre_alexnet.hybridize()"
   ]
  },
  {
   "cell_type": "code",
   "execution_count": 32,
   "metadata": {},
   "outputs": [],
   "source": [
    "batch_size = 60\n",
    "epochs = 10\n",
    "lr_decay = 0.1\n",
    "lr = 0.9 # Learning rate\n",
    "lr_decay_epoch = [4, 8, np.inf]"
   ]
  },
  {
   "cell_type": "code",
   "execution_count": 33,
   "metadata": {},
   "outputs": [
    {
     "name": "stdout",
     "output_type": "stream",
     "text": [
      "[Epoch 0] train=0.502418 val=0.500000 time: 12.563563\n",
      "[Epoch 1] train=0.500000 val=0.500000 time: 12.095567\n",
      "[Epoch 2] train=0.500000 val=0.500000 time: 12.115211\n",
      "[Epoch 3] train=0.500000 val=0.500000 time: 12.016625\n",
      "[Epoch 4] train=0.500000 val=0.500000 time: 12.152913\n",
      "[Epoch 5] train=0.500000 val=0.500000 time: 11.943907\n",
      "[Epoch 6] train=0.500000 val=0.500000 time: 12.155550\n",
      "[Epoch 7] train=0.500000 val=0.500000 time: 12.118011\n",
      "[Epoch 8] train=0.500000 val=0.500000 time: 12.049749\n",
      "[Epoch 9] train=0.500000 val=0.500000 time: 12.123805\n"
     ]
    },
    {
     "data": {
      "image/png": "[encoded data removed]",
      "text/plain": [
       "<Figure size 432x288 with 1 Axes>"
      ]
     },
     "metadata": {
      "needs_background": "light"
     },
     "output_type": "display_data"
    }
   ],
   "source": [
    "pre_alexnet, _ = train(pre_alexnet, animals_train_data, animals_val_data, \n",
    "                       epochs, batch_size, lr, lr_decay, lr_decay_epoch)"
   ]
  }
 ],
 "metadata": {
  "kernelspec": {
   "display_name": "Python 3",
   "language": "python",
   "name": "python3"
  },
  "language_info": {
   "codemirror_mode": {
    "name": "ipython",
    "version": 3
   },
   "file_extension": ".py",
   "mimetype": "text/x-python",
   "name": "python",
   "nbconvert_exporter": "python",
   "pygments_lexer": "ipython3",
   "version": "3.8.3"
  }
 },
 "nbformat": 4,
 "nbformat_minor": 4
}
