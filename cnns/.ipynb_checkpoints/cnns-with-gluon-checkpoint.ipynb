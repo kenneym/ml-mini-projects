{
 "cells": [
  {
   "cell_type": "code",
   "execution_count": null,
   "metadata": {},
   "outputs": [],
   "source": [
    "!hostname\n",
    "\n",
    "import mxnet as mx\n",
    "\n",
    "mx.random.seed(1)\n",
    "# number of GPUs to use\n",
    "num_gpus = 1\n",
    "ctx = [mx.gpu(i) for i in range(num_gpus)]"
   ]
  },
  {
   "cell_type": "markdown",
   "metadata": {},
   "source": [
    "# Q1 & Q2"
   ]
  },
  {
   "cell_type": "code",
   "execution_count": 16,
   "metadata": {},
   "outputs": [],
   "source": [
    "def train(net, train_data, val_data, epochs, batch_size, \n",
    "          lr=0.9, lr_decay=1, lr_decay_epoch=[-1], ctx=ctx):\n",
    "    \"\"\"\n",
    "    Procedure for training network 'net' on 'train_data' and evaluating it on 'val_data'. \n",
    "    It prints output data fo each epoch using function 'plot_history(evals)''\n",
    "\n",
    "    Parameters:\n",
    "        - net - gluon.nn.basic_layers.Sequential OR gluoncv.model_zoo.NETWORK_NAME, initialized and constructed network (outside function)\n",
    "        - train_data \\& valid_data - gluon.data.dataloader.DataLoader, training and validation datasets\n",
    "        - epochs - int, number of epochs\n",
    "        - batch_size - int, batch size for data (used outside function in DataLoaders, 'train_data' and 'val_data')\n",
    "        - lr - float, learning rate for Stochastic Gradient Descent (intialize gluon.Trainer inside)\n",
    "        - lr_decay - float, decay rate of lr change each time we reach new lr_decay_epoch[i]\n",
    "        - lr_decay_epoch - list of epochs numbers, when to decay initial learning rate\n",
    "\n",
    "    1) Initialize gluon.Trainer, loss function, metric (optional, TrainingHistory) \n",
    "    2) Train the network\n",
    "    3) During training do not forgot to update learning rate\n",
    "    4) Put in evals['train_acc'] corresponding values\n",
    "    5) Evaluate network on 'val_data' (using function 'test(...)') \n",
    "        and store in evals['val_acc'] corresponding values\n",
    "    6) Evaluate and store in evals['time'] the elapsed time of epoch\n",
    "    7) Print training \\& validation accuracies for each epoch + print training time \n",
    "        for current epoch using 'plot_history(evals)'\n",
    "\n",
    "    Return:\n",
    "        - net - trained network\n",
    "        - evals - dictionary  of evaluations (key = 'eval_name', value = 'list_values'): \n",
    "            training \\& validation accuracies\n",
    "    \"\"\"\n",
    "    evals = None\n",
    "    return net, evals"
   ]
  },
  {
   "cell_type": "code",
   "execution_count": 17,
   "metadata": {},
   "outputs": [],
   "source": [
    "def plot_history(evals, epoch):\n",
    "    \"\"\"\n",
    "    Printing of evaluations in 'evals'\n",
    "\n",
    "    Parameters:\n",
    "        - evals - dictionary  of evaluations (key = 'eval_name', value = 'list_values'): \n",
    "            training \\& validation accuracies\n",
    "        - epoch - current epoch index\n",
    "    \"\"\"\n",
    "    print('[Epoch %d] train=%f val=%f time: %f' %\n",
    "            (epoch, evals['train_acc'][epoch], evals['val_acc'][epoch], evals['time'][epoch]))"
   ]
  },
  {
   "cell_type": "code",
   "execution_count": 18,
   "metadata": {},
   "outputs": [],
   "source": [
    "def test(net, val_data, ctx, loss_fn = mx.gluon.loss.SoftmaxCrossEntropyLoss()):\n",
    "    \"\"\"\n",
    "    Function to test network on validation OR test dataset\n",
    "\n",
    "    Parameters:\n",
    "        - net - gluon.nn.basic_layers.Sequential OR gluoncv.model_zoo.NETWORK_NAME, \n",
    "            initialized and constructed network (outside function)\n",
    "        - val_data - gluon.data.dataloader.DataLoader, validation OR test dataset\n",
    "        - ctx - context for making batching using gluon.utils.split_and_load(...)\n",
    "        - loss_fn - default: SoftmaxCrossEntropyLoss, loss function to use for validation dataset\n",
    "\n",
    "    Return:\n",
    "        - net - gluon.nn.basic_layers.Sequential OR gluoncv.model_zoo.NETWORK_NAME, \n",
    "            initialized and constructed network (outside function)\n",
    "        - val_acc - validation accuracy\n",
    "    \"\"\"\n",
    "    val_acc = None, None\n",
    "    return net, val_acc"
   ]
  },
  {
   "cell_type": "code",
   "execution_count": null,
   "metadata": {},
   "outputs": [],
   "source": []
  }
 ],
 "metadata": {
  "kernelspec": {
   "display_name": "Python 3",
   "language": "python",
   "name": "python3"
  },
  "language_info": {
   "codemirror_mode": {
    "name": "ipython",
    "version": 3
   },
   "file_extension": ".py",
   "mimetype": "text/x-python",
   "name": "python",
   "nbconvert_exporter": "python",
   "pygments_lexer": "ipython3",
   "version": "3.6.9"
  }
 },
 "nbformat": 4,
 "nbformat_minor": 2
}
