{
 "cells": [
  {
   "cell_type": "markdown",
   "metadata": {},
   "source": [
    "## From-Scratch Naive Bayes Classifier"
   ]
  },
  {
   "cell_type": "code",
   "execution_count": 12,
   "metadata": {},
   "outputs": [],
   "source": []
  },
  {
   "cell_type": "code",
   "execution_count": 12,
   "metadata": {},
   "outputs": [],
   "source": [
    "import pandas as pd\n",
    "from collections import Counter"
   ]
  },
  {
   "cell_type": "markdown",
   "metadata": {},
   "source": [
    "### Read Data"
   ]
  },
  {
   "cell_type": "code",
   "execution_count": 13,
   "metadata": {},
   "outputs": [
    {
     "data": {
      "text/html": [
       "<div>\n",
       "<style scoped>\n",
       "    .dataframe tbody tr th:only-of-type {\n",
       "        vertical-align: middle;\n",
       "    }\n",
       "\n",
       "    .dataframe tbody tr th {\n",
       "        vertical-align: top;\n",
       "    }\n",
       "\n",
       "    .dataframe thead th {\n",
       "        text-align: right;\n",
       "    }\n",
       "</style>\n",
       "<table border=\"1\" class=\"dataframe\">\n",
       "  <thead>\n",
       "    <tr style=\"text-align: right;\">\n",
       "      <th></th>\n",
       "      <th>outlook</th>\n",
       "      <th>temp</th>\n",
       "      <th>humidity</th>\n",
       "      <th>windy</th>\n",
       "    </tr>\n",
       "  </thead>\n",
       "  <tbody>\n",
       "    <tr>\n",
       "      <td>0</td>\n",
       "      <td>sunny</td>\n",
       "      <td>hot</td>\n",
       "      <td>high</td>\n",
       "      <td>False</td>\n",
       "    </tr>\n",
       "    <tr>\n",
       "      <td>1</td>\n",
       "      <td>sunny</td>\n",
       "      <td>hot</td>\n",
       "      <td>high</td>\n",
       "      <td>True</td>\n",
       "    </tr>\n",
       "    <tr>\n",
       "      <td>2</td>\n",
       "      <td>overcast</td>\n",
       "      <td>hot</td>\n",
       "      <td>high</td>\n",
       "      <td>False</td>\n",
       "    </tr>\n",
       "    <tr>\n",
       "      <td>3</td>\n",
       "      <td>rainy</td>\n",
       "      <td>mild</td>\n",
       "      <td>high</td>\n",
       "      <td>False</td>\n",
       "    </tr>\n",
       "    <tr>\n",
       "      <td>4</td>\n",
       "      <td>rainy</td>\n",
       "      <td>cool</td>\n",
       "      <td>normal</td>\n",
       "      <td>False</td>\n",
       "    </tr>\n",
       "  </tbody>\n",
       "</table>\n",
       "</div>"
      ],
      "text/plain": [
       "    outlook  temp humidity  windy\n",
       "0     sunny   hot     high  False\n",
       "1     sunny   hot     high   True\n",
       "2  overcast   hot     high  False\n",
       "3     rainy  mild     high  False\n",
       "4     rainy  cool   normal  False"
      ]
     },
     "execution_count": 13,
     "metadata": {},
     "output_type": "execute_result"
    }
   ],
   "source": [
    "data = pd.read_csv('./data/tennis_train.csv')\n",
    "targets = data.pop('play') # remove labels\n",
    "data.head()"
   ]
  },
  {
   "cell_type": "code",
   "execution_count": 50,
   "metadata": {},
   "outputs": [],
   "source": [
    "# Generate input file for testing\n",
    "data.to_csv(\"input.csv\", index=False)"
   ]
  },
  {
   "cell_type": "markdown",
   "metadata": {},
   "source": [
    "### Determine P(Yes) and P(No)"
   ]
  },
  {
   "cell_type": "code",
   "execution_count": 15,
   "metadata": {},
   "outputs": [
    {
     "data": {
      "text/plain": [
       "{'no': 4, 'yes': 7}"
      ]
     },
     "execution_count": 15,
     "metadata": {},
     "output_type": "execute_result"
    }
   ],
   "source": [
    "# Get occurances of yes or no\n",
    "target_occurances = dict(Counter(targets))  # Store yes and no count in dictionary\n",
    "target_occurances"
   ]
  },
  {
   "cell_type": "code",
   "execution_count": 4,
   "metadata": {},
   "outputs": [
    {
     "data": {
      "text/plain": [
       "{'yes': 0.6363636363636364, 'no': 0.36363636363636365}"
      ]
     },
     "execution_count": 4,
     "metadata": {},
     "output_type": "execute_result"
    }
   ],
   "source": [
    "# Convert to probabilities (determine P(yes) and P(no))\n",
    "target_prob = {}\n",
    "target_prob['yes'] = target_occurances['yes'] / len(targets)\n",
    "target_prob['no'] = target_occurances['no'] / len(targets)\n",
    "target_prob"
   ]
  },
  {
   "cell_type": "markdown",
   "metadata": {},
   "source": [
    "### Determine P(ai|vj) for all events ai"
   ]
  },
  {
   "cell_type": "code",
   "execution_count": 16,
   "metadata": {},
   "outputs": [
    {
     "data": {
      "text/plain": [
       "{'outlook': {}, 'temp': {}, 'humidity': {}, 'windy': {}}"
      ]
     },
     "execution_count": 16,
     "metadata": {},
     "output_type": "execute_result"
    }
   ],
   "source": [
    "# Create a dictionary describing P(ai | vj)\n",
    "attribute_prob = dict((col,{}) for col in data.columns)\n",
    "attribute_prob"
   ]
  },
  {
   "cell_type": "code",
   "execution_count": 17,
   "metadata": {},
   "outputs": [
    {
     "name": "stdout",
     "output_type": "stream",
     "text": [
      "outlook :\n",
      "----------\n",
      "\t sunny {'yes': 0.3, 'no': 0.5714285714285714}\n",
      "\t rainy {'yes': 0.4, 'no': 0.2857142857142857}\n",
      "\t overcast {'yes': 0.3, 'no': 0.14285714285714285}\n",
      "temp :\n",
      "----------\n",
      "\t hot {'yes': 0.2, 'no': 0.42857142857142855}\n",
      "\t cool {'yes': 0.4, 'no': 0.2857142857142857}\n",
      "\t mild {'yes': 0.4, 'no': 0.2857142857142857}\n",
      "humidity :\n",
      "----------\n",
      "\t normal {'yes': 0.6666666666666666, 'no': 0.3333333333333333}\n",
      "\t high {'yes': 0.3333333333333333, 'no': 0.6666666666666666}\n",
      "windy :\n",
      "----------\n",
      "\t False {'yes': 0.6666666666666666, 'no': 0.5}\n",
      "\t True {'yes': 0.3333333333333333, 'no': 0.5}\n"
     ]
    }
   ],
   "source": [
    "# For each attribute (column) of the data\n",
    "for attr in data:\n",
    "    events = set(data[attr])\n",
    "    a = len(events) # |a| -  the cardinality of this type of attribute\n",
    "    \n",
    "    for event in events:\n",
    "        \n",
    "        # number of training examples for which v = vj\n",
    "        num_yes = len(data[(targets == 'yes')])\n",
    "        num_no = len(data[(targets == 'no')])\n",
    "\n",
    "        #number of examples for which v = vj and a = ai\n",
    "        nc_yes = len(data[(data[attr] == event) & (targets == 'yes')])\n",
    "        nc_no = len(data[(data[attr] == event) & (targets == 'no')])\n",
    "        \n",
    "        # Calculate probability for each event, with laplace correction\n",
    "        prob_yes = (nc_yes + 1) / (num_yes + a) # nc + 1/ n + |a|\n",
    "        prob_no = (nc_no + 1) / (num_no + a) # nc + 1/ n + |a|\n",
    "        \n",
    "        # Add to dictionary\n",
    "        attribute_prob[attr][event] = {}\n",
    "        attribute_prob[attr][event]['yes'] = prob_yes\n",
    "        attribute_prob[attr][event]['no'] = prob_no\n",
    "\n",
    "# Visualize Output:\n",
    "for key1 in attribute_prob:\n",
    "    print(key1, \":\")\n",
    "    print(\"----------\")\n",
    "    for key2 in attribute_prob[key1]:\n",
    "        print(\"\\t\", key2, attribute_prob[key1][key2])"
   ]
  },
  {
   "cell_type": "markdown",
   "metadata": {},
   "source": [
    "### Predict Labels based on Bayes Model"
   ]
  },
  {
   "cell_type": "code",
   "execution_count": 68,
   "metadata": {},
   "outputs": [],
   "source": [
    "# Compute and return Bayes Theorem result (probability of yes or no)\n",
    "def predict(test_data, outfile):\n",
    "    with open(outfile, 'w') as f:\n",
    "        \n",
    "        for i in range(len(test_data)):\n",
    "\n",
    "            prob_yes = target_prob['yes'] #P(y)\n",
    "            prob_no = target_prob['no'] #P(n)\n",
    "                        \n",
    "            for attr in test_data:\n",
    "\n",
    "                # Get the occurance (ex: attr= 'outlook', event='overcast')\n",
    "                event = test_data.iloc[i][attr]\n",
    "                \n",
    "                # Multiple probabilities\n",
    "                prob_yes *= attribute_prob[attr][event]['yes'] # P(event| y)\n",
    "                prob_no *= attribute_prob[attr][event]['no'] # P(event| n)\n",
    "            \n",
    "            prediction = \"yes\" if prob_yes >= prob_no else \"no\"\n",
    "            prediction += '\\n'\n",
    "            f.write(prediction)\n"
   ]
  },
  {
   "cell_type": "code",
   "execution_count": 71,
   "metadata": {},
   "outputs": [],
   "source": [
    "# Generate predictions and output to output.txt\n",
    "def naive_bayes(infile):\n",
    "    test_data = pd.read_csv(infile)\n",
    "    outfile = \"output.txt\"\n",
    "    predict(test_data, outfile)"
   ]
  },
  {
   "cell_type": "code",
   "execution_count": 72,
   "metadata": {},
   "outputs": [],
   "source": [
    "# Execution\n",
    "naive_bayes('input.csv')"
   ]
  }
 ],
 "metadata": {
  "kernelspec": {
   "display_name": "Python 3",
   "language": "python",
   "name": "python3"
  },
  "language_info": {
   "codemirror_mode": {
    "name": "ipython",
    "version": 3
   },
   "file_extension": ".py",
   "mimetype": "text/x-python",
   "name": "python",
   "nbconvert_exporter": "python",
   "pygments_lexer": "ipython3",
   "version": "3.6.8"
  }
 },
 "nbformat": 4,
 "nbformat_minor": 4
}
