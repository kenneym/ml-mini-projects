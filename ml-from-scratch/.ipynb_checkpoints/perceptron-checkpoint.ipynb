{
 "cells": [
  {
   "cell_type": "code",
   "execution_count": 1,
   "metadata": {},
   "outputs": [
    {
     "name": "stdout",
     "output_type": "stream",
     "text": [
      "ccbefc1ab3aa\n"
     ]
    }
   ],
   "source": [
    "# This is running inside a Docker contianer on AWS\n",
    "!hostname"
   ]
  },
  {
   "cell_type": "code",
   "execution_count": 2,
   "metadata": {},
   "outputs": [],
   "source": [
    "import mxnet as mx\n",
    "from mxnet import nd\n",
    "import pandas as pd\n",
    "from sklearn.preprocessing import StandardScaler\n",
    "from sklearn.model_selection import KFold\n",
    "from sklearn.metrics import accuracy_score"
   ]
  },
  {
   "cell_type": "markdown",
   "metadata": {},
   "source": [
    "## Q1. \n",
    "You are given the Heart Disease UCI dataset (https://www.kaggle.com/ronitf/heart-disease-uci/\n",
    "download), where the target refers to the presence of heart disease in the patient. Using MXNet, you are\n",
    "required to \n",
    "1. implement a perceptron classifier\n",
    "2. train it, and \n",
    "3. obtain its 10-fold cross-validation\n",
    "error."
   ]
  },
  {
   "cell_type": "markdown",
   "metadata": {},
   "source": [
    "### Step 1: Process Data:"
   ]
  },
  {
   "cell_type": "code",
   "execution_count": 3,
   "metadata": {},
   "outputs": [],
   "source": [
    "# Float 32 improves processing speed without hurting accuracy\n",
    "# for this dataset\n",
    "heart_df = pd.read_csv(\"./a1/data/heart.csv\").astype('float32')"
   ]
  },
  {
   "cell_type": "code",
   "execution_count": 4,
   "metadata": {},
   "outputs": [],
   "source": [
    "# Split up labels and training data\n",
    "labels_df = heart_df.pop('target')"
   ]
  },
  {
   "cell_type": "code",
   "execution_count": 145,
   "metadata": {},
   "outputs": [
    {
     "data": {
      "text/html": [
       "<div>\n",
       "<style scoped>\n",
       "    .dataframe tbody tr th:only-of-type {\n",
       "        vertical-align: middle;\n",
       "    }\n",
       "\n",
       "    .dataframe tbody tr th {\n",
       "        vertical-align: top;\n",
       "    }\n",
       "\n",
       "    .dataframe thead th {\n",
       "        text-align: right;\n",
       "    }\n",
       "</style>\n",
       "<table border=\"1\" class=\"dataframe\">\n",
       "  <thead>\n",
       "    <tr style=\"text-align: right;\">\n",
       "      <th></th>\n",
       "      <th>age</th>\n",
       "      <th>sex</th>\n",
       "      <th>cp</th>\n",
       "      <th>trestbps</th>\n",
       "      <th>chol</th>\n",
       "      <th>fbs</th>\n",
       "      <th>restecg</th>\n",
       "      <th>thalach</th>\n",
       "      <th>exang</th>\n",
       "      <th>oldpeak</th>\n",
       "      <th>slope</th>\n",
       "      <th>ca</th>\n",
       "      <th>thal</th>\n",
       "    </tr>\n",
       "  </thead>\n",
       "  <tbody>\n",
       "    <tr>\n",
       "      <td>0</td>\n",
       "      <td>63.0</td>\n",
       "      <td>1.0</td>\n",
       "      <td>3.0</td>\n",
       "      <td>145.0</td>\n",
       "      <td>233.0</td>\n",
       "      <td>1.0</td>\n",
       "      <td>0.0</td>\n",
       "      <td>150.0</td>\n",
       "      <td>0.0</td>\n",
       "      <td>2.3</td>\n",
       "      <td>0.0</td>\n",
       "      <td>0.0</td>\n",
       "      <td>1.0</td>\n",
       "    </tr>\n",
       "    <tr>\n",
       "      <td>1</td>\n",
       "      <td>37.0</td>\n",
       "      <td>1.0</td>\n",
       "      <td>2.0</td>\n",
       "      <td>130.0</td>\n",
       "      <td>250.0</td>\n",
       "      <td>0.0</td>\n",
       "      <td>1.0</td>\n",
       "      <td>187.0</td>\n",
       "      <td>0.0</td>\n",
       "      <td>3.5</td>\n",
       "      <td>0.0</td>\n",
       "      <td>0.0</td>\n",
       "      <td>2.0</td>\n",
       "    </tr>\n",
       "    <tr>\n",
       "      <td>2</td>\n",
       "      <td>41.0</td>\n",
       "      <td>0.0</td>\n",
       "      <td>1.0</td>\n",
       "      <td>130.0</td>\n",
       "      <td>204.0</td>\n",
       "      <td>0.0</td>\n",
       "      <td>0.0</td>\n",
       "      <td>172.0</td>\n",
       "      <td>0.0</td>\n",
       "      <td>1.4</td>\n",
       "      <td>2.0</td>\n",
       "      <td>0.0</td>\n",
       "      <td>2.0</td>\n",
       "    </tr>\n",
       "    <tr>\n",
       "      <td>3</td>\n",
       "      <td>56.0</td>\n",
       "      <td>1.0</td>\n",
       "      <td>1.0</td>\n",
       "      <td>120.0</td>\n",
       "      <td>236.0</td>\n",
       "      <td>0.0</td>\n",
       "      <td>1.0</td>\n",
       "      <td>178.0</td>\n",
       "      <td>0.0</td>\n",
       "      <td>0.8</td>\n",
       "      <td>2.0</td>\n",
       "      <td>0.0</td>\n",
       "      <td>2.0</td>\n",
       "    </tr>\n",
       "    <tr>\n",
       "      <td>4</td>\n",
       "      <td>57.0</td>\n",
       "      <td>0.0</td>\n",
       "      <td>0.0</td>\n",
       "      <td>120.0</td>\n",
       "      <td>354.0</td>\n",
       "      <td>0.0</td>\n",
       "      <td>1.0</td>\n",
       "      <td>163.0</td>\n",
       "      <td>1.0</td>\n",
       "      <td>0.6</td>\n",
       "      <td>2.0</td>\n",
       "      <td>0.0</td>\n",
       "      <td>2.0</td>\n",
       "    </tr>\n",
       "  </tbody>\n",
       "</table>\n",
       "</div>"
      ],
      "text/plain": [
       "    age  sex   cp  trestbps   chol  fbs  restecg  thalach  exang  oldpeak  \\\n",
       "0  63.0  1.0  3.0     145.0  233.0  1.0      0.0    150.0    0.0      2.3   \n",
       "1  37.0  1.0  2.0     130.0  250.0  0.0      1.0    187.0    0.0      3.5   \n",
       "2  41.0  0.0  1.0     130.0  204.0  0.0      0.0    172.0    0.0      1.4   \n",
       "3  56.0  1.0  1.0     120.0  236.0  0.0      1.0    178.0    0.0      0.8   \n",
       "4  57.0  0.0  0.0     120.0  354.0  0.0      1.0    163.0    1.0      0.6   \n",
       "\n",
       "   slope   ca  thal  \n",
       "0    0.0  0.0   1.0  \n",
       "1    0.0  0.0   2.0  \n",
       "2    2.0  0.0   2.0  \n",
       "3    2.0  0.0   2.0  \n",
       "4    2.0  0.0   2.0  "
      ]
     },
     "execution_count": 145,
     "metadata": {},
     "output_type": "execute_result"
    }
   ],
   "source": [
    "# labels have been removed from training data\n",
    "heart_df.head()"
   ]
  },
  {
   "cell_type": "code",
   "execution_count": 7,
   "metadata": {},
   "outputs": [
    {
     "name": "stdout",
     "output_type": "stream",
     "text": [
      "Mean:  -1.3709380024820414e-16 \n",
      "STD:  1.0\n"
     ]
    }
   ],
   "source": [
    "# Zero mean the data with STD 1 for better performance:\n",
    "normed_heart_data = StandardScaler().fit_transform(heart_df)\n",
    "print(\"Mean: \", normed_heart_data.mean(), \"\\nSTD: \", normed_heart_data.std())"
   ]
  },
  {
   "cell_type": "code",
   "execution_count": 10,
   "metadata": {},
   "outputs": [],
   "source": [
    "# Convert data to ndarray format\n",
    "data = nd.array(normed_heart_data)\n",
    "labels = nd.array(labels_df.values)"
   ]
  },
  {
   "cell_type": "code",
   "execution_count": 138,
   "metadata": {},
   "outputs": [],
   "source": [
    "class Simple_Perceptron(object):\n",
    "    \"\"\"Perceptron classifier\n",
    "    Modified from Tutorial 2 to work with MXnet NDarrays.\n",
    "    Slight modifications on variable names, but procedure remains\n",
    "    the same.\n",
    "    \"\"\"\n",
    "    def __init__(self, data, learning_rate, epochs):\n",
    "        \n",
    "        self._initialize_weights(data)\n",
    "        self.learning_rate = learning_rate\n",
    "        self.epochs = epochs\n",
    "    \n",
    "    def _initialize_weights(self, data):\n",
    "        \"\"\"Randomly initialize weights\"\"\"\n",
    "    \n",
    "        num_dimensions = data.shape[1] # training data dimensions\n",
    "        \n",
    "        # Define randomly initialized weights and intercept\n",
    "        vals = nd.random.normal(shape = (num_dimensions + 1))\n",
    "        self.weights = vals[1:]\n",
    "        self.intercept = vals[0]\n",
    "        \n",
    "        \n",
    "    def get_accuracy(self, test_data, test_labels):\n",
    "        \"\"\"Determines accurary of model on a given test set\"\"\"\n",
    "        \n",
    "        predictions = self.predict(test_data)\n",
    "        num_correct = nd.sum(predictions == test_labels)\n",
    "        num_total = test_labels.size\n",
    "        \n",
    "        return (num_correct / num_total).asscalar()\n",
    "\n",
    "        \n",
    "\n",
    "    def net_input(self, data):\n",
    "        \"\"\"Apply Perceptron prediction function\n",
    "           Args:\n",
    "               Data: 1 sample (training), or an array of test samples(testing)\n",
    "\n",
    "        \"\"\"\n",
    "        # y = (X * W) + b\n",
    "        return nd.dot(data, self.weights) + self.intercept\n",
    "\n",
    "    def predict(self, data):\n",
    "        \"\"\"Apply perceptron activation function\n",
    "           Args:\n",
    "               Data: 1 sample (training), or an array of test samples(testing)\n",
    "        \"\"\"\n",
    "        net_input = self.net_input(data)\n",
    "        shape = net_input.shape\n",
    "        return nd.where(self.net_input(data) >= 0.0, nd.ones(shape), nd.zeros(shape))\n",
    "  \n",
    "    def _update_weights(self, sample, label):\n",
    "        \"\"\"Apply Perceptron learning rule to update the weights for a single sample.\n",
    "           Args:\n",
    "               Sample: a single array of input data (1 sample)\n",
    "        \"\"\"\n",
    "        output = self.predict(sample)\n",
    "        self.weights += self.learning_rate * sample * (label - output)\n",
    "        self.intercept += self.learning_rate * (label - output)\n",
    "    \n",
    "    def fit(self, training_data, labels):\n",
    "        \"\"\"Fit training data.\n",
    "        Args: \n",
    "            training_data : array-like, shape = [n_samples, n_features]\n",
    "            labels : array-like, shape = [n_samples, 1]\n",
    "        \n",
    "        Returns:\n",
    "            self : object\n",
    "        \"\"\"\n",
    "        # initialize the weight\n",
    "        for _ in range(epochs):\n",
    "            for sample, label in zip(training_data, labels):\n",
    "                self._update_weights(sample, label)\n",
    "        return self"
   ]
  },
  {
   "cell_type": "code",
   "execution_count": 139,
   "metadata": {},
   "outputs": [],
   "source": [
    "# initialize perceptron paramaters:\n",
    "learning_rate = 0.001\n",
    "epochs = 100"
   ]
  },
  {
   "cell_type": "code",
   "execution_count": 142,
   "metadata": {},
   "outputs": [],
   "source": [
    "# Kfold split:\n",
    "n_folds = 10\n",
    "kf = KFold(n_splits = n_folds, shuffle = True)"
   ]
  },
  {
   "cell_type": "code",
   "execution_count": 144,
   "metadata": {},
   "outputs": [
    {
     "name": "stdout",
     "output_type": "stream",
     "text": [
      "Split # 1 : initialized model, trained, evaluated\n",
      "Split # 2 : initialized model, trained, evaluated\n",
      "Split # 3 : initialized model, trained, evaluated\n",
      "Split # 4 : initialized model, trained, evaluated\n",
      "Split # 5 : initialized model, trained, evaluated\n",
      "Split # 6 : initialized model, trained, evaluated\n",
      "Split # 7 : initialized model, trained, evaluated\n",
      "Split # 8 : initialized model, trained, evaluated\n",
      "Split # 9 : initialized model, trained, evaluated\n",
      "Split # 10 : initialized model, trained, evaluated\n"
     ]
    }
   ],
   "source": [
    "scores = []\n",
    "trial = 1\n",
    "for train_index, test_index in kf.split(data):\n",
    "    \n",
    "    print(\"Split #\", trial, \": \", end=\"\")\n",
    "    \n",
    "    # Re-initialize model:\n",
    "    model = Simple_Perceptron(data, learning_rate, epochs)\n",
    "    print(\"initialized model, \", end=\"\")\n",
    "    \n",
    "    # Obtain the K-fold split for this iteration\n",
    "    train_data, test_data = data[train_index], data[test_index]\n",
    "    train_labels, test_labels = labels[train_index], labels[test_index]\n",
    "    \n",
    "    # Train\n",
    "    model = model.fit(train_data, train_labels)\n",
    "    print(\"trained, \", end=\"\")\n",
    "   \n",
    "    # Evaluate accuracy\n",
    "    scores.append(model.get_accuracy(test_data, test_labels))\n",
    "    print(\"evaluated\")\n",
    "    \n",
    "    trial +=1"
   ]
  },
  {
   "cell_type": "code",
   "execution_count": 146,
   "metadata": {},
   "outputs": [
    {
     "name": "stdout",
     "output_type": "stream",
     "text": [
      "Scores from each split:  [0.8064516, 0.516129, 0.5483871, 0.6, 0.5, 0.46666667, 0.53333336, 0.6666667, 0.53333336, 0.46666667]\n",
      "Average K-Fold Score:  0.5637634515762329\n"
     ]
    }
   ],
   "source": [
    "print('Scores from each split: ', scores)\n",
    "print('Average K-Fold Score: ', sum(scores) / len(scores))"
   ]
  }
 ],
 "metadata": {
  "kernelspec": {
   "display_name": "Python 3",
   "language": "python",
   "name": "python3"
  },
  "language_info": {
   "codemirror_mode": {
    "name": "ipython",
    "version": 3
   },
   "file_extension": ".py",
   "mimetype": "text/x-python",
   "name": "python",
   "nbconvert_exporter": "python",
   "pygments_lexer": "ipython3",
   "version": "3.7.3"
  }
 },
 "nbformat": 4,
 "nbformat_minor": 4
}
