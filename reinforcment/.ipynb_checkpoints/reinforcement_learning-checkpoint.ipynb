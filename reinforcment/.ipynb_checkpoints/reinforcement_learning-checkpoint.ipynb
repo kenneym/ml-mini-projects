{
 "cells": [
  {
   "cell_type": "markdown",
   "metadata": {},
   "source": [
    "# Assignment 3: COMP 4211\n",
    "\n",
    "**Author**: Matthew Kenney\n",
    "\n",
    "**Student ID**: 20674663"
   ]
  },
  {
   "cell_type": "code",
   "execution_count": 1,
   "metadata": {},
   "outputs": [],
   "source": [
    "import numpy as np\n",
    "import seaborn as sns; sns.set()"
   ]
  },
  {
   "cell_type": "markdown",
   "metadata": {},
   "source": [
    "# Question 1\n",
    "**Step 1**: Build helper functions for the linear and iterative solver"
   ]
  },
  {
   "cell_type": "code",
   "execution_count": 7,
   "metadata": {},
   "outputs": [],
   "source": [
    "def get_actions(s):\n",
    "    \"\"\"\n",
    "    Parameters:\n",
    "        's': value of the current state\n",
    "    Returns:\n",
    "        list of all possible actions one can take from s\n",
    "\"\"\"\n",
    "\n",
    "    # In this case, actions are always up, right, left, down\n",
    "    # except for states 0 and 15 (terminal states)\n",
    "\n",
    "    if s == 0 or s == 15:\n",
    "        return []\n",
    "\n",
    "    else:\n",
    "        return [0, 1, 2, 3] # 0,1,2,3 represents left, right, up, down"
   ]
  },
  {
   "cell_type": "code",
   "execution_count": 8,
   "metadata": {},
   "outputs": [],
   "source": [
    "def get_next_state(s, a, num_rows, num_cols):\n",
    "    \"\"\"\n",
    "    Parameters:\n",
    "        's': value of the current state\n",
    "        'num_rows' : number of rows on the game board\n",
    "        'num_cols' : number of columns on the game board\n",
    "\n",
    "    Returns:\n",
    "        next state, or s_prime\n",
    "    \"\"\"\n",
    "    if s == 0 or s == 15:\n",
    "        return s\n",
    "    \n",
    "    return compute_move(s, a, num_rows, num_cols)"
   ]
  },
  {
   "cell_type": "code",
   "execution_count": 9,
   "metadata": {},
   "outputs": [],
   "source": [
    "def compute_move(s, a, num_rows, num_cols): \n",
    "    \"\"\" Helper function for get_next_state that computes the next state after a move\n",
    "        (or returns current state if move is not possible)\n",
    "    \"\"\"\n",
    "    s_2D = [s // num_cols, s % num_cols] # row, col\n",
    "    if a == 0: #left\n",
    "        s_2D[1] -= 1\n",
    "    elif a == 1: # right\n",
    "        s_2D[1] += 1\n",
    "    elif a == 2: # up\n",
    "        s_2D[0] -= 1\n",
    "    elif a == 3: # down\n",
    "        s_2D[0] += 1\n",
    "    else:\n",
    "        print(\"error\")\n",
    "        return -1\n",
    "          \n",
    "    # ensure s_prime is on the board... if not, just go back to s:\n",
    "    if s_2D[0] < 0 or s_2D[0] >= num_rows or s_2D[1] < 0 or s_2D[1] >= num_cols:\n",
    "        return s\n",
    "\n",
    "    else:\n",
    "        return (s_2D[0] * num_cols) + s_2D[1]"
   ]
  },
  {
   "cell_type": "code",
   "execution_count": 10,
   "metadata": {},
   "outputs": [],
   "source": [
    "def get_reward(s, a, s_prime):\n",
    "    \"\"\" \n",
    "    Mimics the functionality of R(s, s', a)\n",
    "    in this case, simply returns -1 for any combination.\n",
    "    \"\"\"\n",
    "    if s == 0 or s == 15:\n",
    "        return 0\n",
    "    else:\n",
    "        return -1"
   ]
  },
  {
   "cell_type": "code",
   "execution_count": 11,
   "metadata": {},
   "outputs": [],
   "source": [
    "def show_heatmap(data, title=None):\n",
    "    \"\"\" colors a value function map using seaborn heatmap \"\"\"\n",
    "    ax = sns.heatmap(data, annot=True, fmt=\".2f\", linewidths=.5)\n",
    "    bottom, top = ax.get_ylim()\n",
    "    ax.set_ylim(bottom + 0.5, top - 0.5)\n",
    "    \n",
    "    if title:\n",
    "        ax.set_title(title)"
   ]
  },
  {
   "cell_type": "markdown",
   "metadata": {},
   "source": [
    "## Part A: Solve using a system of linear equations:"
   ]
  },
  {
   "cell_type": "code",
   "execution_count": 12,
   "metadata": {},
   "outputs": [],
   "source": [
    "def policy_eval_linear(action_fn, next_state_fn, side_length, num_states, gamma):\n",
    "    \"\"\"\n",
    "    Generates the  value function equations required, and solves linearly \n",
    "    to find the optimal value function V*(s) for each state s in the markov descision process\n",
    "    \"\"\"\n",
    "  \n",
    "    # variable to hold each row of unkonwns in the linear system\n",
    "    system = []\n",
    "    solutions = [] # to hold constant values\n",
    "    \n",
    "    prob = 0.25 # probability we take any one action\n",
    "\n",
    "    # for each state in the MDP\n",
    "    for state in range(num_states):\n",
    "      \n",
    "        # compute function V(s1) of form\n",
    "        # -rewards (constant) = - V(s1) + gamma(V(s0)) + gamma(V(s5)) + ...\n",
    "        # so that constants are on left and unknowns on right\n",
    "\n",
    "        # unknowns = each variable in our value function linear system\n",
    "        unknowns = [0 for _ in range(num_states)]\n",
    "        unknowns[state] = -1 # - V(s1) -> see above explanation\n",
    "        rewards = 0\n",
    "        \n",
    "        \n",
    "        for action in get_actions(state):\n",
    "            s_prime = get_next_state(state, action, side_length, side_length) # get next state\n",
    "            unknowns[s_prime] += prob * gamma # prob * gamma is the coefficient of s_prime\n",
    "            rewards += prob * get_reward(state, action, s_prime) # accumulate rewards\n",
    "\n",
    "        \n",
    "        system.append(unknowns)\n",
    "        solutions.append(-rewards)\n",
    "  \n",
    "    system = np.array(system)\n",
    "    solutions = np.array(solutions)\n",
    "    \n",
    "    # SOLVE\n",
    "    solution = np.around(np.linalg.inv(system).dot(solutions), decimals=2)\n",
    "    solution = solution.reshape(row_length, row_length)\n",
    "    return solution"
   ]
  },
  {
   "cell_type": "code",
   "execution_count": 13,
   "metadata": {},
   "outputs": [],
   "source": [
    "row_length = 4\n",
    "side_length = 4\n",
    "num_states = 16\n",
    "curr_state = 13\n",
    "gamma = 1"
   ]
  },
  {
   "cell_type": "code",
   "execution_count": 14,
   "metadata": {},
   "outputs": [
    {
     "data": {
      "image/png": "[encoded data removed]",
      "text/plain": [
       "<Figure size 432x288 with 2 Axes>"
      ]
     },
     "metadata": {
      "needs_background": "light"
     },
     "output_type": "display_data"
    }
   ],
   "source": [
    "values = policy_eval_linear(get_actions, get_next_state, side_length, num_states, gamma)\n",
    "title = \"Q1, Part A: State Value Function, Linear\"\n",
    "show_heatmap(values, title)"
   ]
  },
  {
   "cell_type": "markdown",
   "metadata": {},
   "source": [
    "## Part B: Iterative Solution:\n",
    "In order to perform policy evaluation iteratively, we will take a slightly different approach,\n",
    "representing the policy as a matrix mapping states to actions. We'll start each state: action\n",
    "mapping out at value 0.25 (except at terminal states) to represent that each action is equally\n",
    "valid in the initial policy."
   ]
  },
  {
   "cell_type": "code",
   "execution_count": 15,
   "metadata": {},
   "outputs": [],
   "source": [
    "# Define our initial random policy & 0-initialized value mapping\n",
    "num_states = 16\n",
    "num_actions = 4\n",
    "\n",
    "policy = np.ones([num_states, num_actions]) / num_actions\n",
    "policy[0] = np.zeros(num_actions) # No actions possible in terminal states\n",
    "policy[num_states - 1] = np.zeros(num_actions)"
   ]
  },
  {
   "cell_type": "code",
   "execution_count": 16,
   "metadata": {},
   "outputs": [],
   "source": [
    "# Initialize other constraints\n",
    "theta = .0001 # 10^-4\n",
    "gamma = 1\n",
    "side_length = 4"
   ]
  },
  {
   "cell_type": "code",
   "execution_count": 17,
   "metadata": {},
   "outputs": [],
   "source": [
    "def policy_eval_iter(policy, next_state_fn, reward_fn, side_length, theta, gamma):\n",
    "    \n",
    "    num_states = len(policy)\n",
    "    num_actions = len(policy[0])\n",
    "    values = np.zeros(num_states) # Initialize all V(s) to zero\n",
    "\n",
    "    \n",
    "    # Until convergence is reached\n",
    "    while True:\n",
    "        \n",
    "        delta = 0 # Δ <- 0\n",
    "        old_values = np.copy(values) # v(s) <- V(s) for all states s\n",
    "        \n",
    "        # Iterate through each state to determine its value based on the policy\n",
    "        for state, state_policy in enumerate(policy):\n",
    "\n",
    "            values[state] = 0 # V(s) = 0 (i.e. reset the V(s))\n",
    "            \n",
    "            # for each action_weight (action weight is 0 if not possible under the policy for the current state)\n",
    "            # otherwise, action_weight holds a positive value. (i.e. all action weights start at 0.25 for random policy)\n",
    "            for action, action_weight in enumerate(state_policy):\n",
    "                \n",
    "                s_prime = next_state_fn(state, action, side_length, side_length) # get next state\n",
    "                reward = reward_fn(state, action, s_prime)\n",
    "\n",
    "                # V(s) += action_weight(R(s) + γ(V(s')))\n",
    "                values[state] += action_weight * (reward + (gamma * old_values[s_prime]))\n",
    "            \n",
    "            # Check convergence criteria\n",
    "            delta = max(delta, abs(old_values[state] - values[state]))\n",
    "    \n",
    "        if delta < theta:\n",
    "            break\n",
    "        \n",
    "    return np.around(values.reshape(side_length, side_length), decimals=2)"
   ]
  },
  {
   "cell_type": "code",
   "execution_count": 18,
   "metadata": {},
   "outputs": [
    {
     "data": {
      "image/png": "[encoded data removed]",
      "text/plain": [
       "<Figure size 432x288 with 2 Axes>"
      ]
     },
     "metadata": {
      "needs_background": "light"
     },
     "output_type": "display_data"
    }
   ],
   "source": [
    "values = policy_eval_iter(policy, get_next_state, get_reward, side_length, theta, gamma)\n",
    "title = \"Q1, Part B: State Value Function, Iterative\"\n",
    "show_heatmap(values, title)"
   ]
  },
  {
   "cell_type": "markdown",
   "metadata": {},
   "source": [
    "## Question 2:\n",
    "\n",
    "### Part A\n",
    "For part (a) of this question, we will first redefine our policy, reward function, and next\n",
    "state function. Then, we will run the same iterative policy evaluation scheme on the new environment (much as we did above in part 1b)."
   ]
  },
  {
   "cell_type": "code",
   "execution_count": 19,
   "metadata": {},
   "outputs": [],
   "source": [
    "# Define our initial random policy & other values\n",
    "num_states = 25\n",
    "side_length = 5\n",
    "num_actions = 4\n",
    "gamma = 0.9\n",
    "theta = .0001 # 10^-4\n",
    "\n",
    "# No terminal states, so all actions equally possible in all states\n",
    "policy_2 = np.ones([num_states, num_actions]) / num_actions"
   ]
  },
  {
   "cell_type": "code",
   "execution_count": 20,
   "metadata": {},
   "outputs": [],
   "source": [
    "def get_next_state_2(state, action, num_rows, num_cols):\n",
    "\n",
    "    a = 1 # special state a is the second state\n",
    "    b = 3\n",
    "    a_prime = 21\n",
    "    b_prime = 13\n",
    "    \n",
    "    # any action in a or b leads to a' or b', respectively\n",
    "    if state == a:\n",
    "        return a_prime\n",
    "    \n",
    "    elif state == b:\n",
    "        return b_prime\n",
    "    \n",
    "    # otherwise, we'll compute the left, right, up, down result\n",
    "    else:\n",
    "        return compute_move(state, action, num_rows, num_cols)"
   ]
  },
  {
   "cell_type": "code",
   "execution_count": 21,
   "metadata": {},
   "outputs": [],
   "source": [
    "def get_reward_2(state, action, s_prime):\n",
    "    \n",
    "    a = 1 # special state a is the second state\n",
    "    b = 3\n",
    "    \n",
    "    if state == a:\n",
    "        return 10\n",
    "    \n",
    "    elif state == b:\n",
    "        return 5\n",
    "    \n",
    "    # if the move took the agent of the grid (i.e. agent bumped into wall)\n",
    "    elif state == s_prime:\n",
    "        return -1\n",
    "    \n",
    "    else:\n",
    "        return 0"
   ]
  },
  {
   "cell_type": "code",
   "execution_count": 22,
   "metadata": {},
   "outputs": [
    {
     "data": {
      "image/png": "[encoded data removed]",
      "text/plain": [
       "<Figure size 432x288 with 2 Axes>"
      ]
     },
     "metadata": {
      "needs_background": "light"
     },
     "output_type": "display_data"
    }
   ],
   "source": [
    "title = \"Q2, Part A: State Value Function for the Random Policy\"\n",
    "values = policy_eval_iter(policy_2, get_next_state_2, get_reward_2, side_length, theta, gamma)\n",
    "show_heatmap(values, title)"
   ]
  },
  {
   "cell_type": "markdown",
   "metadata": {},
   "source": [
    "### Part B\n",
    "For part (b) of this question, we will run essentially the same iterative policy evaluation expression, except for one minor difference. At each update, we will assess the V at time step t\n",
    "only based on the value of the best action value at that time. The below function modifies the policy evaluation step in order to do this, and adds a policy update step that will provide us with the opimal policy (pi*). "
   ]
  },
  {
   "cell_type": "code",
   "execution_count": 23,
   "metadata": {},
   "outputs": [],
   "source": [
    "def value_iteration(policy, next_state_fn, reward_fn, side_length, theta, gamma):\n",
    "    \n",
    "    num_states = len(policy)\n",
    "    num_actions = len(policy[0])\n",
    "    V = np.zeros(num_states) # Initialize all V(s) to zero\n",
    "    \n",
    "    def best_action_value(state):\n",
    "        \"\"\" \n",
    "        returns best action value, and a list of actions that produce that value\n",
    "        (i.e. if 3 actions all give the best action value, list is of length 3...\n",
    "         if there is a clear best action, list is length 1.)\n",
    "        \"\"\"\n",
    "        \n",
    "        action_values = np.ones(num_actions)\n",
    "        for action in range(num_actions):\n",
    "            s_prime = next_state_fn(state, action, side_length, side_length)\n",
    "            reward = reward_fn(state, action, s_prime)\n",
    "            action_values[action] = (reward + (gamma * V[s_prime]))\n",
    "            \n",
    "        best_action_value = np.max(action_values)\n",
    "        best_actions = np.where(action_values == best_action_value)\n",
    "        return best_action_value, best_actions\n",
    "    \n",
    "    \n",
    "    while True:\n",
    "        \n",
    "        delta = 0 # Δ <- 0\n",
    "        \n",
    "        for state in range(num_states):\n",
    "            \n",
    "            # continually set V[s] to the value of the best action one could take in this state\n",
    "            best_value, _ = best_action_value(state)\n",
    "            delta = max(delta, np.abs(best_value - V[state]))\n",
    "            V[state] = best_value\n",
    "            \n",
    "        if delta < theta:\n",
    "            break;\n",
    "            \n",
    "    \n",
    "    # Update the Policy to reflect the optimal state value function:\n",
    "    policy.fill(0) # reset the policy\n",
    "    \n",
    "    for state in range(num_states):\n",
    "        _, best_actions = best_action_value(state)\n",
    "        \n",
    "        for action in best_actions:\n",
    "            policy[state][action] = 1 / len(best_actions)\n",
    "    \n",
    "    V = np.around(V.reshape(side_length, side_length), decimals=2)\n",
    "    return V, policy"
   ]
  },
  {
   "cell_type": "code",
   "execution_count": 24,
   "metadata": {},
   "outputs": [],
   "source": [
    "V, policy = value_iteration(policy_2, get_next_state_2, get_reward_2, side_length, theta, gamma)"
   ]
  },
  {
   "cell_type": "code",
   "execution_count": 25,
   "metadata": {},
   "outputs": [
    {
     "data": {
      "image/png": "[encoded data removed]",
      "text/plain": [
       "<Figure size 432x288 with 2 Axes>"
      ]
     },
     "metadata": {
      "needs_background": "light"
     },
     "output_type": "display_data"
    }
   ],
   "source": [
    "title = \"Q2, Part B: Optimal Value Function\"\n",
    "show_heatmap(V, title)"
   ]
  },
  {
   "cell_type": "markdown",
   "metadata": {},
   "source": [
    "for illustration, the optimal policy is listed below. Each row represents a state, and each column represents an action (0 -> left, 1 -> right, 2-> up, 3-> down). if policy[state][action] is equal to 1, then that action is an optimal action."
   ]
  },
  {
   "cell_type": "code",
   "execution_count": 26,
   "metadata": {},
   "outputs": [
    {
     "data": {
      "text/plain": [
       "array([[0., 1., 0., 0.],\n",
       "       [1., 1., 1., 1.],\n",
       "       [1., 0., 0., 0.],\n",
       "       [1., 1., 1., 1.],\n",
       "       [1., 0., 0., 0.],\n",
       "       [0., 1., 0., 0.],\n",
       "       [0., 0., 1., 0.],\n",
       "       [1., 0., 1., 0.],\n",
       "       [1., 0., 0., 0.],\n",
       "       [1., 0., 0., 0.],\n",
       "       [0., 1., 0., 0.],\n",
       "       [0., 0., 1., 0.],\n",
       "       [1., 0., 1., 0.],\n",
       "       [1., 0., 1., 0.],\n",
       "       [1., 0., 1., 0.],\n",
       "       [0., 1., 0., 0.],\n",
       "       [0., 0., 1., 0.],\n",
       "       [1., 0., 1., 0.],\n",
       "       [1., 0., 1., 0.],\n",
       "       [1., 0., 1., 0.],\n",
       "       [0., 1., 0., 0.],\n",
       "       [0., 0., 1., 0.],\n",
       "       [1., 0., 1., 0.],\n",
       "       [1., 0., 1., 0.],\n",
       "       [1., 0., 1., 0.]])"
      ]
     },
     "execution_count": 26,
     "metadata": {},
     "output_type": "execute_result"
    }
   ],
   "source": [
    "policy"
   ]
  },
  {
   "cell_type": "markdown",
   "metadata": {},
   "source": [
    "## Question 3:\n",
    "\n",
    "**Step 1**: Define some helper functions and describe our gridworld"
   ]
  },
  {
   "cell_type": "code",
   "execution_count": 27,
   "metadata": {},
   "outputs": [],
   "source": [
    "# Describe the grid world:\n",
    "num_states = 12\n",
    "num_actions = 4\n",
    "num_rows = 3\n",
    "num_cols = 4\n",
    "\n",
    "# important states:\n",
    "A = 10\n",
    "B = 2\n",
    "\n",
    "# initialize the Q Table to all zeros:\n",
    "Q_table = np.zeros([num_states, num_actions])"
   ]
  },
  {
   "cell_type": "code",
   "execution_count": 28,
   "metadata": {},
   "outputs": [],
   "source": [
    "def to_values(trajectory):\n",
    "    \"\"\" simply converts action strings to integer values\"\"\"\n",
    "    to_value = {\"Left\": 0, \"Right\": 1, \"Up\": 2, \"Down\" : 3}\n",
    "    action_values = []\n",
    "    for move in trajectory:\n",
    "        action_values.append(to_value[move])\n",
    "\n",
    "    return action_values"
   ]
  },
  {
   "cell_type": "code",
   "execution_count": 29,
   "metadata": {},
   "outputs": [],
   "source": [
    "def get_reward_3(state, action, s_prime):\n",
    "    \"\"\" New reward function for the given grid world\"\"\"\n",
    "    \n",
    "    if s_prime == A:\n",
    "        return 1\n",
    "    \n",
    "    elif s_prime == B:\n",
    "        return -1\n",
    "    \n",
    "    else:\n",
    "        return 0"
   ]
  },
  {
   "cell_type": "markdown",
   "metadata": {},
   "source": [
    "**Step 2**: Define the Q learning function across one trajectory"
   ]
  },
  {
   "cell_type": "code",
   "execution_count": 30,
   "metadata": {},
   "outputs": [],
   "source": [
    "def Q_learning(Q_table, trajectory, num_rows=3, num_cols=4, initial_state=0, lr=1, \n",
    "               gamma=0.8, reward_fn=get_reward_3, next_state_fn=compute_move):\n",
    "    \n",
    "    actions = to_values(trajectory)\n",
    "    state = initial_state\n",
    "    \n",
    "    for i, action in enumerate(actions):\n",
    "        s_prime = next_state_fn(state, action, num_rows, num_cols)\n",
    "        reward = reward_fn(state, action, s_prime)\n",
    "        \n",
    "        # Document the experience:\n",
    "        print(\"Step \" + str(i + 1) + \":\\t  \"\n",
    "              \"(s: \" + str(state) + \", \" + \n",
    "              \"a: \" + trajectory[i] + \", \" + \n",
    "              \"r: \" + str(reward) + \", \" + \n",
    "              \"s': \" + str(s_prime) + \")\")\n",
    "        \n",
    "        # Update the Q-table using the Q-learning update rule:\n",
    "        Q_table[state, action] = Q_table[state, action] + lr * (reward + gamma * np.max(Q_table[s_prime, :]) - Q_table[state, action])\n",
    "        \n",
    "        # Print Q-table after each \"learning experience\":\n",
    "        print(\"\\nNewly updated Q table:\\n\\n left, right, up, down\")\n",
    "        print(np.around(Q_table, decimals=1))\n",
    "        state = s_prime # iterate\n",
    "        \n",
    "        print() # newline\n",
    "        \n",
    "    return Q_table # return the result of the learning on this trajectory\n",
    "        \n",
    "        "
   ]
  },
  {
   "cell_type": "markdown",
   "metadata": {},
   "source": [
    "## Solution to Q3, Part A"
   ]
  },
  {
   "cell_type": "code",
   "execution_count": 31,
   "metadata": {},
   "outputs": [
    {
     "name": "stdout",
     "output_type": "stream",
     "text": [
      "Step 1:\t  (s: 0, a: Down, r: 0, s': 4)\n",
      "\n",
      "Newly updated Q table:\n",
      "\n",
      " left, right, up, down\n",
      "[[0. 0. 0. 0.]\n",
      " [0. 0. 0. 0.]\n",
      " [0. 0. 0. 0.]\n",
      " [0. 0. 0. 0.]\n",
      " [0. 0. 0. 0.]\n",
      " [0. 0. 0. 0.]\n",
      " [0. 0. 0. 0.]\n",
      " [0. 0. 0. 0.]\n",
      " [0. 0. 0. 0.]\n",
      " [0. 0. 0. 0.]\n",
      " [0. 0. 0. 0.]\n",
      " [0. 0. 0. 0.]]\n",
      "\n",
      "Step 2:\t  (s: 4, a: Right, r: 0, s': 5)\n",
      "\n",
      "Newly updated Q table:\n",
      "\n",
      " left, right, up, down\n",
      "[[0. 0. 0. 0.]\n",
      " [0. 0. 0. 0.]\n",
      " [0. 0. 0. 0.]\n",
      " [0. 0. 0. 0.]\n",
      " [0. 0. 0. 0.]\n",
      " [0. 0. 0. 0.]\n",
      " [0. 0. 0. 0.]\n",
      " [0. 0. 0. 0.]\n",
      " [0. 0. 0. 0.]\n",
      " [0. 0. 0. 0.]\n",
      " [0. 0. 0. 0.]\n",
      " [0. 0. 0. 0.]]\n",
      "\n",
      "Step 3:\t  (s: 5, a: Right, r: 0, s': 6)\n",
      "\n",
      "Newly updated Q table:\n",
      "\n",
      " left, right, up, down\n",
      "[[0. 0. 0. 0.]\n",
      " [0. 0. 0. 0.]\n",
      " [0. 0. 0. 0.]\n",
      " [0. 0. 0. 0.]\n",
      " [0. 0. 0. 0.]\n",
      " [0. 0. 0. 0.]\n",
      " [0. 0. 0. 0.]\n",
      " [0. 0. 0. 0.]\n",
      " [0. 0. 0. 0.]\n",
      " [0. 0. 0. 0.]\n",
      " [0. 0. 0. 0.]\n",
      " [0. 0. 0. 0.]]\n",
      "\n",
      "Step 4:\t  (s: 6, a: Right, r: 0, s': 7)\n",
      "\n",
      "Newly updated Q table:\n",
      "\n",
      " left, right, up, down\n",
      "[[0. 0. 0. 0.]\n",
      " [0. 0. 0. 0.]\n",
      " [0. 0. 0. 0.]\n",
      " [0. 0. 0. 0.]\n",
      " [0. 0. 0. 0.]\n",
      " [0. 0. 0. 0.]\n",
      " [0. 0. 0. 0.]\n",
      " [0. 0. 0. 0.]\n",
      " [0. 0. 0. 0.]\n",
      " [0. 0. 0. 0.]\n",
      " [0. 0. 0. 0.]\n",
      " [0. 0. 0. 0.]]\n",
      "\n",
      "Step 5:\t  (s: 7, a: Up, r: 0, s': 3)\n",
      "\n",
      "Newly updated Q table:\n",
      "\n",
      " left, right, up, down\n",
      "[[0. 0. 0. 0.]\n",
      " [0. 0. 0. 0.]\n",
      " [0. 0. 0. 0.]\n",
      " [0. 0. 0. 0.]\n",
      " [0. 0. 0. 0.]\n",
      " [0. 0. 0. 0.]\n",
      " [0. 0. 0. 0.]\n",
      " [0. 0. 0. 0.]\n",
      " [0. 0. 0. 0.]\n",
      " [0. 0. 0. 0.]\n",
      " [0. 0. 0. 0.]\n",
      " [0. 0. 0. 0.]]\n",
      "\n"
     ]
    }
   ],
   "source": [
    "t1 = [\"Down\", \"Right\", \"Right\", \"Right\", \"Up\"]\n",
    "t2 = [\"Down\", \"Right\", \"Up\", \"Right\", \"Down\"]\n",
    "t3 = [\"Down\", \"Right\", \"Right\", \"Down\", \"Up\"]\n",
    "t4 = [\"Down\", \"Right\", \"Left\", \"Down\", \"Right\"]\n",
    "\n",
    "Q_table = Q_learning(Q_table, t1)"
   ]
  },
  {
   "cell_type": "markdown",
   "metadata": {},
   "source": [
    "## Solution to Q3, Part B"
   ]
  },
  {
   "cell_type": "code",
   "execution_count": 32,
   "metadata": {},
   "outputs": [
    {
     "name": "stdout",
     "output_type": "stream",
     "text": [
      "Step 1:\t  (s: 0, a: Down, r: 0, s': 4)\n",
      "\n",
      "Newly updated Q table:\n",
      "\n",
      " left, right, up, down\n",
      "[[0. 0. 0. 0.]\n",
      " [0. 0. 0. 0.]\n",
      " [0. 0. 0. 0.]\n",
      " [0. 0. 0. 0.]\n",
      " [0. 0. 0. 0.]\n",
      " [0. 0. 0. 0.]\n",
      " [0. 0. 0. 0.]\n",
      " [0. 0. 0. 0.]\n",
      " [0. 0. 0. 0.]\n",
      " [0. 0. 0. 0.]\n",
      " [0. 0. 0. 0.]\n",
      " [0. 0. 0. 0.]]\n",
      "\n",
      "Step 2:\t  (s: 4, a: Right, r: 0, s': 5)\n",
      "\n",
      "Newly updated Q table:\n",
      "\n",
      " left, right, up, down\n",
      "[[0. 0. 0. 0.]\n",
      " [0. 0. 0. 0.]\n",
      " [0. 0. 0. 0.]\n",
      " [0. 0. 0. 0.]\n",
      " [0. 0. 0. 0.]\n",
      " [0. 0. 0. 0.]\n",
      " [0. 0. 0. 0.]\n",
      " [0. 0. 0. 0.]\n",
      " [0. 0. 0. 0.]\n",
      " [0. 0. 0. 0.]\n",
      " [0. 0. 0. 0.]\n",
      " [0. 0. 0. 0.]]\n",
      "\n",
      "Step 3:\t  (s: 5, a: Up, r: 0, s': 1)\n",
      "\n",
      "Newly updated Q table:\n",
      "\n",
      " left, right, up, down\n",
      "[[0. 0. 0. 0.]\n",
      " [0. 0. 0. 0.]\n",
      " [0. 0. 0. 0.]\n",
      " [0. 0. 0. 0.]\n",
      " [0. 0. 0. 0.]\n",
      " [0. 0. 0. 0.]\n",
      " [0. 0. 0. 0.]\n",
      " [0. 0. 0. 0.]\n",
      " [0. 0. 0. 0.]\n",
      " [0. 0. 0. 0.]\n",
      " [0. 0. 0. 0.]\n",
      " [0. 0. 0. 0.]]\n",
      "\n",
      "Step 4:\t  (s: 1, a: Right, r: -1, s': 2)\n",
      "\n",
      "Newly updated Q table:\n",
      "\n",
      " left, right, up, down\n",
      "[[ 0.  0.  0.  0.]\n",
      " [ 0. -1.  0.  0.]\n",
      " [ 0.  0.  0.  0.]\n",
      " [ 0.  0.  0.  0.]\n",
      " [ 0.  0.  0.  0.]\n",
      " [ 0.  0.  0.  0.]\n",
      " [ 0.  0.  0.  0.]\n",
      " [ 0.  0.  0.  0.]\n",
      " [ 0.  0.  0.  0.]\n",
      " [ 0.  0.  0.  0.]\n",
      " [ 0.  0.  0.  0.]\n",
      " [ 0.  0.  0.  0.]]\n",
      "\n",
      "Step 5:\t  (s: 2, a: Down, r: 0, s': 6)\n",
      "\n",
      "Newly updated Q table:\n",
      "\n",
      " left, right, up, down\n",
      "[[ 0.  0.  0.  0.]\n",
      " [ 0. -1.  0.  0.]\n",
      " [ 0.  0.  0.  0.]\n",
      " [ 0.  0.  0.  0.]\n",
      " [ 0.  0.  0.  0.]\n",
      " [ 0.  0.  0.  0.]\n",
      " [ 0.  0.  0.  0.]\n",
      " [ 0.  0.  0.  0.]\n",
      " [ 0.  0.  0.  0.]\n",
      " [ 0.  0.  0.  0.]\n",
      " [ 0.  0.  0.  0.]\n",
      " [ 0.  0.  0.  0.]]\n",
      "\n"
     ]
    }
   ],
   "source": [
    "Q_table = Q_learning(Q_table, t2)"
   ]
  },
  {
   "cell_type": "code",
   "execution_count": 33,
   "metadata": {},
   "outputs": [
    {
     "name": "stdout",
     "output_type": "stream",
     "text": [
      "Step 1:\t  (s: 0, a: Down, r: 0, s': 4)\n",
      "\n",
      "Newly updated Q table:\n",
      "\n",
      " left, right, up, down\n",
      "[[ 0.  0.  0.  0.]\n",
      " [ 0. -1.  0.  0.]\n",
      " [ 0.  0.  0.  0.]\n",
      " [ 0.  0.  0.  0.]\n",
      " [ 0.  0.  0.  0.]\n",
      " [ 0.  0.  0.  0.]\n",
      " [ 0.  0.  0.  0.]\n",
      " [ 0.  0.  0.  0.]\n",
      " [ 0.  0.  0.  0.]\n",
      " [ 0.  0.  0.  0.]\n",
      " [ 0.  0.  0.  0.]\n",
      " [ 0.  0.  0.  0.]]\n",
      "\n",
      "Step 2:\t  (s: 4, a: Right, r: 0, s': 5)\n",
      "\n",
      "Newly updated Q table:\n",
      "\n",
      " left, right, up, down\n",
      "[[ 0.  0.  0.  0.]\n",
      " [ 0. -1.  0.  0.]\n",
      " [ 0.  0.  0.  0.]\n",
      " [ 0.  0.  0.  0.]\n",
      " [ 0.  0.  0.  0.]\n",
      " [ 0.  0.  0.  0.]\n",
      " [ 0.  0.  0.  0.]\n",
      " [ 0.  0.  0.  0.]\n",
      " [ 0.  0.  0.  0.]\n",
      " [ 0.  0.  0.  0.]\n",
      " [ 0.  0.  0.  0.]\n",
      " [ 0.  0.  0.  0.]]\n",
      "\n",
      "Step 3:\t  (s: 5, a: Right, r: 0, s': 6)\n",
      "\n",
      "Newly updated Q table:\n",
      "\n",
      " left, right, up, down\n",
      "[[ 0.  0.  0.  0.]\n",
      " [ 0. -1.  0.  0.]\n",
      " [ 0.  0.  0.  0.]\n",
      " [ 0.  0.  0.  0.]\n",
      " [ 0.  0.  0.  0.]\n",
      " [ 0.  0.  0.  0.]\n",
      " [ 0.  0.  0.  0.]\n",
      " [ 0.  0.  0.  0.]\n",
      " [ 0.  0.  0.  0.]\n",
      " [ 0.  0.  0.  0.]\n",
      " [ 0.  0.  0.  0.]\n",
      " [ 0.  0.  0.  0.]]\n",
      "\n",
      "Step 4:\t  (s: 6, a: Down, r: 1, s': 10)\n",
      "\n",
      "Newly updated Q table:\n",
      "\n",
      " left, right, up, down\n",
      "[[ 0.  0.  0.  0.]\n",
      " [ 0. -1.  0.  0.]\n",
      " [ 0.  0.  0.  0.]\n",
      " [ 0.  0.  0.  0.]\n",
      " [ 0.  0.  0.  0.]\n",
      " [ 0.  0.  0.  0.]\n",
      " [ 0.  0.  0.  1.]\n",
      " [ 0.  0.  0.  0.]\n",
      " [ 0.  0.  0.  0.]\n",
      " [ 0.  0.  0.  0.]\n",
      " [ 0.  0.  0.  0.]\n",
      " [ 0.  0.  0.  0.]]\n",
      "\n",
      "Step 5:\t  (s: 10, a: Up, r: 0, s': 6)\n",
      "\n",
      "Newly updated Q table:\n",
      "\n",
      " left, right, up, down\n",
      "[[ 0.   0.   0.   0. ]\n",
      " [ 0.  -1.   0.   0. ]\n",
      " [ 0.   0.   0.   0. ]\n",
      " [ 0.   0.   0.   0. ]\n",
      " [ 0.   0.   0.   0. ]\n",
      " [ 0.   0.   0.   0. ]\n",
      " [ 0.   0.   0.   1. ]\n",
      " [ 0.   0.   0.   0. ]\n",
      " [ 0.   0.   0.   0. ]\n",
      " [ 0.   0.   0.   0. ]\n",
      " [ 0.   0.   0.8  0. ]\n",
      " [ 0.   0.   0.   0. ]]\n",
      "\n"
     ]
    }
   ],
   "source": [
    "Q_table = Q_learning(Q_table, t3)"
   ]
  },
  {
   "cell_type": "code",
   "execution_count": 34,
   "metadata": {},
   "outputs": [
    {
     "name": "stdout",
     "output_type": "stream",
     "text": [
      "Step 1:\t  (s: 0, a: Down, r: 0, s': 4)\n",
      "\n",
      "Newly updated Q table:\n",
      "\n",
      " left, right, up, down\n",
      "[[ 0.   0.   0.   0. ]\n",
      " [ 0.  -1.   0.   0. ]\n",
      " [ 0.   0.   0.   0. ]\n",
      " [ 0.   0.   0.   0. ]\n",
      " [ 0.   0.   0.   0. ]\n",
      " [ 0.   0.   0.   0. ]\n",
      " [ 0.   0.   0.   1. ]\n",
      " [ 0.   0.   0.   0. ]\n",
      " [ 0.   0.   0.   0. ]\n",
      " [ 0.   0.   0.   0. ]\n",
      " [ 0.   0.   0.8  0. ]\n",
      " [ 0.   0.   0.   0. ]]\n",
      "\n",
      "Step 2:\t  (s: 4, a: Right, r: 0, s': 5)\n",
      "\n",
      "Newly updated Q table:\n",
      "\n",
      " left, right, up, down\n",
      "[[ 0.   0.   0.   0. ]\n",
      " [ 0.  -1.   0.   0. ]\n",
      " [ 0.   0.   0.   0. ]\n",
      " [ 0.   0.   0.   0. ]\n",
      " [ 0.   0.   0.   0. ]\n",
      " [ 0.   0.   0.   0. ]\n",
      " [ 0.   0.   0.   1. ]\n",
      " [ 0.   0.   0.   0. ]\n",
      " [ 0.   0.   0.   0. ]\n",
      " [ 0.   0.   0.   0. ]\n",
      " [ 0.   0.   0.8  0. ]\n",
      " [ 0.   0.   0.   0. ]]\n",
      "\n",
      "Step 3:\t  (s: 5, a: Left, r: 0, s': 4)\n",
      "\n",
      "Newly updated Q table:\n",
      "\n",
      " left, right, up, down\n",
      "[[ 0.   0.   0.   0. ]\n",
      " [ 0.  -1.   0.   0. ]\n",
      " [ 0.   0.   0.   0. ]\n",
      " [ 0.   0.   0.   0. ]\n",
      " [ 0.   0.   0.   0. ]\n",
      " [ 0.   0.   0.   0. ]\n",
      " [ 0.   0.   0.   1. ]\n",
      " [ 0.   0.   0.   0. ]\n",
      " [ 0.   0.   0.   0. ]\n",
      " [ 0.   0.   0.   0. ]\n",
      " [ 0.   0.   0.8  0. ]\n",
      " [ 0.   0.   0.   0. ]]\n",
      "\n",
      "Step 4:\t  (s: 4, a: Down, r: 0, s': 8)\n",
      "\n",
      "Newly updated Q table:\n",
      "\n",
      " left, right, up, down\n",
      "[[ 0.   0.   0.   0. ]\n",
      " [ 0.  -1.   0.   0. ]\n",
      " [ 0.   0.   0.   0. ]\n",
      " [ 0.   0.   0.   0. ]\n",
      " [ 0.   0.   0.   0. ]\n",
      " [ 0.   0.   0.   0. ]\n",
      " [ 0.   0.   0.   1. ]\n",
      " [ 0.   0.   0.   0. ]\n",
      " [ 0.   0.   0.   0. ]\n",
      " [ 0.   0.   0.   0. ]\n",
      " [ 0.   0.   0.8  0. ]\n",
      " [ 0.   0.   0.   0. ]]\n",
      "\n",
      "Step 5:\t  (s: 8, a: Right, r: 0, s': 9)\n",
      "\n",
      "Newly updated Q table:\n",
      "\n",
      " left, right, up, down\n",
      "[[ 0.   0.   0.   0. ]\n",
      " [ 0.  -1.   0.   0. ]\n",
      " [ 0.   0.   0.   0. ]\n",
      " [ 0.   0.   0.   0. ]\n",
      " [ 0.   0.   0.   0. ]\n",
      " [ 0.   0.   0.   0. ]\n",
      " [ 0.   0.   0.   1. ]\n",
      " [ 0.   0.   0.   0. ]\n",
      " [ 0.   0.   0.   0. ]\n",
      " [ 0.   0.   0.   0. ]\n",
      " [ 0.   0.   0.8  0. ]\n",
      " [ 0.   0.   0.   0. ]]\n",
      "\n"
     ]
    }
   ],
   "source": [
    "Q_table = Q_learning(Q_table, t4)"
   ]
  }
 ],
 "metadata": {
  "kernelspec": {
   "display_name": "Python 3",
   "language": "python",
   "name": "python3"
  },
  "language_info": {
   "codemirror_mode": {
    "name": "ipython",
    "version": 3
   },
   "file_extension": ".py",
   "mimetype": "text/x-python",
   "name": "python",
   "nbconvert_exporter": "python",
   "pygments_lexer": "ipython3",
   "version": "3.6.8"
  }
 },
 "nbformat": 4,
 "nbformat_minor": 4
}
